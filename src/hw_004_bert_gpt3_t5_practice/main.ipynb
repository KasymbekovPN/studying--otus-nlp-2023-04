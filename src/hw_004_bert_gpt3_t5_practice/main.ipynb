{
 "cells": [
  {
   "cell_type": "markdown",
   "id": "f5429398",
   "metadata": {},
   "source": [
    "## Import"
   ]
  },
  {
   "cell_type": "code",
   "execution_count": 1,
   "id": "afc0b21d",
   "metadata": {},
   "outputs": [
    {
     "name": "stderr",
     "output_type": "stream",
     "text": [
      "C:\\Python310\\lib\\site-packages\\tqdm\\auto.py:21: TqdmWarning: IProgress not found. Please update jupyter and ipywidgets. See https://ipywidgets.readthedocs.io/en/stable/user_install.html\n",
      "  from .autonotebook import tqdm as notebook_tqdm\n"
     ]
    },
    {
     "name": "stdout",
     "output_type": "stream",
     "text": [
      "Import is done.\n"
     ]
    }
   ],
   "source": [
    "%matplotlib inline\n",
    "import matplotlib\n",
    "import random\n",
    "import wget\n",
    "import os\n",
    "import pathlib\n",
    "import torch\n",
    "import datetime\n",
    "import time\n",
    "import pandas as pd\n",
    "import numpy as np\n",
    "import seaborn as sns\n",
    "import matplotlib.pyplot as plt\n",
    "\n",
    "from pathlib import Path\n",
    "from enum import Enum\n",
    "from tqdm import tqdm\n",
    "from functools import partial\n",
    "from shutil import rmtree\n",
    "from datasets import load_metric, Dataset, DatasetDict\n",
    "from razdel import tokenize\n",
    "from sklearn.metrics import f1_score\n",
    "from sklearn.metrics import matthews_corrcoef\n",
    "from torch.optim import AdamW\n",
    "from torch.utils.data import random_split, TensorDataset, DataLoader, RandomSampler, SequentialSampler\n",
    "from transformers import AutoTokenizer, BertTokenizer, AutoModelForMaskedLM, BertForSequenceClassification, \\\n",
    "                         get_linear_schedule_with_warmup, AutoModel, AutoModelForCausalLM, DataCollatorForSeq2Seq, \\\n",
    "                         Seq2SeqTrainingArguments, Seq2SeqTrainer, T5Tokenizer, T5ForConditionalGeneration\n",
    "\n",
    "tqdm.pandas()\n",
    "\n",
    "print('Import is done.')"
   ]
  },
  {
   "cell_type": "markdown",
   "id": "b46d11c8",
   "metadata": {},
   "source": [
    "## Configuration"
   ]
  },
  {
   "cell_type": "code",
   "execution_count": 2,
   "id": "1a344298",
   "metadata": {},
   "outputs": [
    {
     "name": "stdout",
     "output_type": "stream",
     "text": [
      "Configuration block is done.\n"
     ]
    }
   ],
   "source": [
    "class Configurator:\n",
    "    def __init__(self) -> None:\n",
    "        self._params = {\n",
    "            'random.seed': 42,\n",
    "            \n",
    "            'url.dataset.train': 'https://github.com/RussianNLP/RuCoLA/blob/main/data/in_domain_train.csv?raw=true',\n",
    "            'url.dataset.test': 'https://github.com/RussianNLP/RuCoLA/blob/main/data/in_domain_dev.csv?raw=true',\n",
    "            \n",
    "            'path.dataset.train': './train_dataset.csv',\n",
    "            'path.dataset.test': './test_dataset.csv',\n",
    "            \n",
    "            'name.train': 'TRAIN',\n",
    "            'name.test': 'TEST',\n",
    "  \n",
    "            'dataframe.train.names': ['id', 'sentence', 'acceptable', 'error_type', 'detailed_source'],\n",
    "            'dataframe.test.names': ['id', 'sentence', 'acceptable', 'error_type', 'detailed_source'],\n",
    "            \n",
    "            'bert.train-size': 0.9,\n",
    "            'bert.batch-size': 32,\n",
    "            'bert.optimizer.learning-rate': 2e-5,\n",
    "            'bert.optimizer.eps': 1e-8,\n",
    "#             'bert.train.epochs': 2\n",
    "            'bert.train.epochs': 1,\n",
    "            'bert.pretrain.path': 'ai-forever/ruBert-base',\n",
    "#             'bert.pretrain.path': 'DeepPavlov/rubert-base-cased',\n",
    "            \n",
    "            'gpt.pretrain.path': 'ai-forever/rugpt3large_based_on_gpt2',\n",
    "            \n",
    "            't5.model-name': 't5-base',\n",
    "            't5.pretrain.path': 'ai-forever/ruT5-base',\n",
    "            't5.n-seeds': 1,\n",
    "            't5.n-epochs': 20,\n",
    "            't5.lr-values': (1e-4, 1e-3),\n",
    "            't5.decay-vales': (0, 1e-4),\n",
    "            't5.batch-sizes': (128,),\n",
    "            't5.label.pos': 'yes',\n",
    "            't5.label.neg': 'no',\n",
    "            't5.dataset.url.train': 'https://github.com/RussianNLP/RuCoLA/blob/main/data/in_domain_train.csv?raw=true',\n",
    "            't5.dataset.url.in-domain-dev': 'https://github.com/RussianNLP/RuCoLA/blob/main/data/in_domain_dev.csv?raw=true',\n",
    "            't5.dataset.url.out-of-domain-dev': 'https://github.com/RussianNLP/RuCoLA/blob/main/data/out_of_domain_dev.csv?raw=true',\n",
    "            't5.dataset.url.test': 'https://github.com/RussianNLP/RuCoLA/blob/main/data/test.csv?raw=true',\n",
    "            't5.dataset.path.train': './data/in_domain_train.csv',\n",
    "            't5.dataset.path.in-domain-dev': './data/in_domain_dev.csv',\n",
    "            't5.dataset.path.out-of-domain-dev': './data/out_of_domain_dev.csv',\n",
    "            't5.dataset.path.test': './data/test.csv',\n",
    "            't5.const-training-args': {\n",
    "                'overwrite_output_dir': True,\n",
    "                'evaluation_strategy': 'epoch',\n",
    "                'lr_scheduler_type': 'constant',\n",
    "                'save_strategy': 'epoch',\n",
    "                'save_total_limit': 1,\n",
    "                'fp16': True,\n",
    "                'dataloader_num_workers': 4,\n",
    "                'group_by_length': True,\n",
    "                'report_to': 'none',\n",
    "                'load_best_model_at_end': True,\n",
    "                'metric_for_best_model': 'eval_mcc',\n",
    "                'optim': 'adafactor',\n",
    "                'predict_with_generate': True\n",
    "            }\n",
    "        }\n",
    "    \n",
    "    def __call__(self, *args, **kwargs):\n",
    "        if len(args) == 0 or args[0] not in self._params:\n",
    "            return None\n",
    "        return self._params[args[0]]\n",
    "    \n",
    "    def check(self, *args):\n",
    "        result = True\n",
    "        absence_params = set()\n",
    "        for arg in args:\n",
    "            if isinstance(arg, str) and arg not in self._params:\n",
    "                result = False\n",
    "                absence_params.add(arg)\n",
    "        message = 'Absence params: ' + ', '.join(absence_params)\n",
    "        assert result, message\n",
    "        \n",
    "        \n",
    "conf = Configurator()\n",
    "\n",
    "print('Configuration block is done.')"
   ]
  },
  {
   "cell_type": "markdown",
   "id": "b488cf80",
   "metadata": {},
   "source": [
    "## Conditions"
   ]
  },
  {
   "cell_type": "code",
   "execution_count": 3,
   "id": "b97e7296",
   "metadata": {},
   "outputs": [
    {
     "name": "stdout",
     "output_type": "stream",
     "text": [
      "Conditions block is done.\n"
     ]
    }
   ],
   "source": [
    "class CList(Enum):\n",
    "    SET_RANDOM_SEED = 0\n",
    "    DEVICE_DEFINED = 1\n",
    "    DATASET_DOWNLOADED = 2\n",
    "    DATASET_LOADED = 3\n",
    "    DATASET_PREPARED = 4\n",
    "    TOKENIZERS_MODELS_CREATED = 5\n",
    "    BERT_SCHEDULER_CREATED = 6\n",
    "    BERT_TRAINED = 7\n",
    "    BERT_TESTED = 8\n",
    "    GPT_PREPARED = 9\n",
    "\n",
    "class Conditions:    \n",
    "    def __init__(self) -> None:\n",
    "        self._conditions = {}\n",
    "        \n",
    "    def set(self, message, *conditions):\n",
    "        for condition in conditions:\n",
    "            self._conditions[condition] = True\n",
    "        print(message)\n",
    "    \n",
    "    def check(self, *conditions):\n",
    "        result = True\n",
    "        absence = set()\n",
    "        for condition in conditions:\n",
    "            if condition not in self._conditions:\n",
    "                result = False\n",
    "                absence.add(condition.name)\n",
    "        fail_message = 'Absence conditions: ' + ', '.join(absence)\n",
    "        assert result, fail_message\n",
    "\n",
    "conds = Conditions()\n",
    "\n",
    "print('Conditions block is done.')"
   ]
  },
  {
   "cell_type": "markdown",
   "id": "6a3b1e38",
   "metadata": {},
   "source": [
    "## Set random seed"
   ]
  },
  {
   "cell_type": "code",
   "execution_count": 4,
   "id": "e6121820",
   "metadata": {},
   "outputs": [
    {
     "name": "stdout",
     "output_type": "stream",
     "text": [
      "Random seed is set.\n"
     ]
    }
   ],
   "source": [
    "conf.check('random.seed')\n",
    "\n",
    "random.seed(conf('random.seed'))\n",
    "np.random.seed(conf('random.seed'))\n",
    "torch.manual_seed(conf('random.seed'))\n",
    "torch.cuda.manual_seed(conf('random.seed'))\n",
    "\n",
    "conds.set('Random seed is set.', CList.SET_RANDOM_SEED)"
   ]
  },
  {
   "cell_type": "markdown",
   "id": "16aeeff9",
   "metadata": {},
   "source": [
    "## Define device"
   ]
  },
  {
   "cell_type": "code",
   "execution_count": 5,
   "id": "f137c253",
   "metadata": {},
   "outputs": [
    {
     "name": "stdout",
     "output_type": "stream",
     "text": [
      "There are 1 GPU(s) available.\n",
      "We will use the GPU: NVIDIA GeForce RTX 3080 Laptop GPU\n",
      "Device is defined\n"
     ]
    }
   ],
   "source": [
    "conds.check(CList.SET_RANDOM_SEED)\n",
    "\n",
    "if torch.cuda.is_available():\n",
    "    print(f'There are {torch.cuda.device_count()} GPU(s) available.')\n",
    "    print(f'We will use the GPU: {torch.cuda.get_device_name(0)}')\n",
    "    device = torch.device('cuda')\n",
    "else:\n",
    "    print('No GPU available, using the GPU instead.')\n",
    "    device = torch.device('cpu')\n",
    "    \n",
    "conds.set(\"Device is defined\", CList.DEVICE_DEFINED)"
   ]
  },
  {
   "cell_type": "markdown",
   "id": "0572c92a",
   "metadata": {},
   "source": [
    "## Models & tokenizers & optimizers creation"
   ]
  },
  {
   "cell_type": "code",
   "execution_count": 6,
   "id": "4a287bd1",
   "metadata": {},
   "outputs": [
    {
     "name": "stderr",
     "output_type": "stream",
     "text": [
      "Some weights of BertForSequenceClassification were not initialized from the model checkpoint at ai-forever/ruBert-base and are newly initialized: ['classifier.bias', 'classifier.weight']\n",
      "You should probably TRAIN this model on a down-stream task to be able to use it for predictions and inference.\n",
      "Special tokens have been added in the vocabulary, make sure the associated word embeddings are fine-tuned or trained.\n"
     ]
    },
    {
     "name": "stdout",
     "output_type": "stream",
     "text": [
      "Models & tokenizers creation is done.\n"
     ]
    }
   ],
   "source": [
    "conf.check('bert.optimizer.learning-rate', 'bert.optimizer.eps', 'bert.pretrain.path', 'gpt.pretrain.path')\n",
    "conds.check(CList.DEVICE_DEFINED)\n",
    "\n",
    "bert_tokenizer = BertTokenizer.from_pretrained(conf('bert.pretrain.path'))\n",
    "bert_model = BertForSequenceClassification.from_pretrained(\n",
    "    conf('bert.pretrain.path'),\n",
    "    num_labels=2,\n",
    "    output_attentions=False,\n",
    "    output_hidden_states=False\n",
    ")\n",
    "bert_optimizer = AdamW(bert_model.parameters(), lr=conf('bert.optimizer.learning-rate'), eps=conf('bert.optimizer.eps'))\n",
    "\n",
    "gpt_tokenizer = AutoTokenizer.from_pretrained(conf('gpt.pretrain.path'))\n",
    "gpt_model = AutoModelForCausalLM.from_pretrained(conf('gpt.pretrain.path'))\n",
    "\n",
    "conds.set('Models & tokenizers creation is done.', CList.TOKENIZERS_MODELS_CREATED)"
   ]
  },
  {
   "cell_type": "markdown",
   "id": "fb3b4c8e",
   "metadata": {},
   "source": [
    "## Downloading datasets on disk"
   ]
  },
  {
   "cell_type": "code",
   "execution_count": 7,
   "id": "e88e4693",
   "metadata": {},
   "outputs": [
    {
     "name": "stdout",
     "output_type": "stream",
     "text": [
      "Dataset \"TRAIN\" is already downloaded.\n",
      "Dataset \"TEST\" is already downloaded.\n",
      "Datasets downloading is done\n"
     ]
    }
   ],
   "source": [
    "# optimize checking  !!!\n",
    "conf.check(\n",
    "    'url.dataset.train',\n",
    "    'path.dataset.train',\n",
    "    'name.train',\n",
    "    'url.dataset.test',\n",
    "    'path.dataset.test',\n",
    "    'name.test'\n",
    ");\n",
    "conds.check(CList.TOKENIZERS_MODELS_CREATED)\n",
    "\n",
    "def load_dataset(url: str, path: str, name: str):\n",
    "    if os.path.exists(path):\n",
    "        print('Dataset \"' + name + '\" is already downloaded.')\n",
    "    else:\n",
    "        wget.download(url, path)\n",
    "        print(' Dataset \"' + name + '\" is downloaded.')\n",
    "        \n",
    "load_dataset(conf('url.dataset.train'), conf('path.dataset.train'), conf('name.train'))\n",
    "load_dataset(conf('url.dataset.test'), conf('path.dataset.test'), conf('name.test'))\n",
    "conds.set('Datasets downloading is done', CList.DATASET_DOWNLOADED)"
   ]
  },
  {
   "cell_type": "markdown",
   "id": "ad31748d",
   "metadata": {},
   "source": [
    "## Loading datasets from disk"
   ]
  },
  {
   "cell_type": "code",
   "execution_count": 8,
   "id": "a4e4c9b0",
   "metadata": {},
   "outputs": [
    {
     "name": "stdout",
     "output_type": "stream",
     "text": [
      "Datasets are loaded from disk.\n"
     ]
    }
   ],
   "source": [
    "conf.check(\n",
    "    'path.dataset.train',\n",
    "    'path.dataset.test',\n",
    "    'dataframe.train.names',\n",
    "    'dataframe.test.names'\n",
    ")\n",
    "conds.check(CList.DATASET_DOWNLOADED)\n",
    "\n",
    "train_dataframe = pd.read_csv(\n",
    "    conf('path.dataset.train'),\n",
    "    names=conf('dataframe.train.names'),\n",
    "    skiprows=1,\n",
    "    usecols=conf('dataframe.train.usecols')\n",
    ")\n",
    "\n",
    "test_dataframe = pd.read_csv(\n",
    "    conf('path.dataset.test'),\n",
    "    names=conf('dataframe.test.names'),\n",
    "    skiprows=1,\n",
    "    usecols=conf('dataframe.test.usecols')\n",
    ")\n",
    "conds.set('Datasets are loaded from disk.', CList.DATASET_LOADED)"
   ]
  },
  {
   "cell_type": "markdown",
   "id": "b6d81895",
   "metadata": {},
   "source": [
    "## BERT datasets preparation, create dataloaders"
   ]
  },
  {
   "cell_type": "code",
   "execution_count": 9,
   "id": "05af8cf2",
   "metadata": {},
   "outputs": [
    {
     "name": "stdout",
     "output_type": "stream",
     "text": [
      "BERT datasets are prepared.\n"
     ]
    }
   ],
   "source": [
    "conf.check('bert.batch-size', 'bert.batch-size', 'bert.batch-size')\n",
    "conds.check(CList.DATASET_LOADED)\n",
    "\n",
    "train_sentences = train_dataframe.sentence.values\n",
    "train_acceptables = train_dataframe.acceptable.values\n",
    "test_sentences = test_dataframe.sentence.values\n",
    "test_acceptables = test_dataframe.acceptable.values\n",
    "\n",
    "\n",
    "def define_raw_max_length_by_bert(sentences, raw_max_length):\n",
    "    for sentence in sentences:\n",
    "        input_ids = bert_tokenizer.encode(sentence, add_special_tokens=True)\n",
    "        raw_max_length = max(raw_max_length, len(input_ids))    \n",
    "    return raw_max_length\n",
    "\n",
    "\n",
    "raw_max_length = define_raw_max_length_by_bert(train_sentences, 0)\n",
    "raw_max_length = define_raw_max_length_by_bert(test_sentences, raw_max_length)\n",
    "\n",
    "\n",
    "def define_max_length(raw_max_length, threshold):\n",
    "    return threshold if threshold >= raw_max_length else define_max_length(raw_max_length, threshold * 2)\n",
    "\n",
    "\n",
    "max_length = define_max_length(raw_max_length, 1)\n",
    "\n",
    "def create_bert_dataset(sentences, acceptables, max_length):\n",
    "    input_ids = []\n",
    "    attention_masks = []\n",
    "    for sentence in sentences:\n",
    "        encoded_dict = bert_tokenizer.encode_plus(\n",
    "            sentence,\n",
    "            add_special_tokens=True,\n",
    "            max_length=max_length,\n",
    "            padding='max_length',\n",
    "            return_attention_mask=True,\n",
    "            return_tensors='pt'\n",
    "        )\n",
    "        input_ids.append(encoded_dict['input_ids'])\n",
    "        attention_masks.append(encoded_dict['attention_mask'])\n",
    "    input_ids = torch.cat(input_ids, dim=0)\n",
    "    attention_masks = torch.cat(attention_masks, dim=0)\n",
    "    acceptables = torch.tensor(acceptables)\n",
    "\n",
    "    return TensorDataset(input_ids, attention_masks, acceptables)\n",
    "\n",
    "train_val_dataset = create_bert_dataset(train_sentences, train_acceptables, max_length)\n",
    "test_dataset = create_bert_dataset(test_sentences, test_acceptables, max_length);\n",
    "\n",
    "train_val_dataset_size = len(train_val_dataset)\n",
    "train_size = int(conf('bert.train-size') * train_val_dataset_size)\n",
    "val_size = train_val_dataset_size - train_size\n",
    "train_dataset, val_dataset = random_split(train_val_dataset, [train_size, val_size])\n",
    "\n",
    "train_dataloader = DataLoader(train_dataset, sampler=RandomSampler(train_dataset), batch_size=conf('bert.batch-size'))\n",
    "val_dataloader = DataLoader(val_dataset, sampler=SequentialSampler(val_dataset), batch_size=conf('bert.batch-size'))\n",
    "test_dataloader = DataLoader(test_dataset, sampler=SequentialSampler(test_dataset), batch_size=conf('bert.batch-size'))\n",
    "\n",
    "conds.set('BERT datasets are prepared.', CList.DATASET_PREPARED)"
   ]
  },
  {
   "cell_type": "markdown",
   "id": "623ae05e",
   "metadata": {},
   "source": [
    "## BERT scheduler creation"
   ]
  },
  {
   "cell_type": "code",
   "execution_count": 10,
   "id": "04c4a03f",
   "metadata": {},
   "outputs": [
    {
     "name": "stdout",
     "output_type": "stream",
     "text": [
      "BERT scheduler is created.\n"
     ]
    }
   ],
   "source": [
    "conf.check('bert.train.epochs')\n",
    "conds.check(CList.DATASET_PREPARED)\n",
    "\n",
    "bert_scheduler = get_linear_schedule_with_warmup(\n",
    "    bert_optimizer,\n",
    "    num_warmup_steps=0,\n",
    "    num_training_steps=len(train_dataloader) * conf('bert.train.epochs')\n",
    ")\n",
    "\n",
    "conds.set('BERT scheduler is created.', CList.BERT_SCHEDULER_CREATED)"
   ]
  },
  {
   "cell_type": "markdown",
   "id": "8cbe30d1",
   "metadata": {},
   "source": [
    "## BERT finetune training"
   ]
  },
  {
   "cell_type": "code",
   "execution_count": 11,
   "id": "e3858886",
   "metadata": {},
   "outputs": [
    {
     "name": "stdout",
     "output_type": "stream",
     "text": [
      "\n",
      "======= Epoch 1 / 1 =======\n",
      "\n",
      "Training...\n",
      "\tBatch 40 of 222, elapsed: 0:00:10\n",
      "\tBatch 80 of 222, elapsed: 0:00:18\n",
      "\tBatch 120 of 222, elapsed: 0:00:26\n",
      "\tBatch 160 of 222, elapsed: 0:00:34\n",
      "\tBatch 200 of 222, elapsed: 0:00:42\n",
      "\tBatch 222 of 222, elapsed: 0:00:47\n",
      "\n",
      "\tAverage training loss: 0.5317554961856421\n",
      "\tTraining epcoh took: 0:00:47\n",
      "\n",
      "Running validation...\n",
      "\n",
      "\tAccuracy: 0.7707894736842106\n",
      "\tValidation loss: 0.5111633718013764\n",
      "\tValidation took: 0:00:01\n",
      "\n",
      "Trainig complete!\n",
      "Total trainig took: 0:00:48\n"
     ]
    },
    {
     "data": {
      "image/png": "[encoded data removed]",
      "text/plain": [
       "<Figure size 1200x600 with 1 Axes>"
      ]
     },
     "metadata": {},
     "output_type": "display_data"
    },
    {
     "name": "stdout",
     "output_type": "stream",
     "text": [
      "BERT is trained.\n"
     ]
    }
   ],
   "source": [
    "conf.check('bert.train.epochs')\n",
    "conds.check(CList.BERT_SCHEDULER_CREATED)\n",
    "\n",
    "# < !!! to utils block & rename\n",
    "def flat_accuracy_bert(predictions, labels):\n",
    "    predictions_flat = np.argmax(predictions, axis=1).flatten()\n",
    "    labels_flat = labels.flatten()\n",
    "    return np.sum(predictions_flat == labels_flat) / len(labels_flat)\n",
    "\n",
    "# < !!! to utils block & rename\n",
    "def format_time_bert(elapsed):\n",
    "    return str(datetime.timedelta(seconds=int(round(elapsed))))\n",
    "\n",
    "# < !!!\n",
    "def log_step(step: int, offset: int, length: int, t0):\n",
    "    if ((step + 1) % offset == 0 and not step == 0) or (step == length - 1):\n",
    "        elapsed = format_time_bert(time.time() - t0)\n",
    "        print(f'\\tBatch {step+1} of {len(train_dataloader)}, elapsed: {elapsed}')    \n",
    "\n",
    "# < !!!\n",
    "def extract_from_batch(batch, device) -> tuple:\n",
    "    b_input_ids = batch[0].to(device)\n",
    "    b_input_mask = batch[1].to(device)\n",
    "    b_labels = batch[2].to(device)\n",
    "    return b_input_ids, b_input_mask, b_labels\n",
    "\n",
    "bert_model.cuda()\n",
    "\n",
    "training_stats = []\n",
    "total_t0 = time.time()\n",
    "train_dataloader_length = len(train_dataloader)\n",
    "val_dataloader_length = len(val_dataloader)\n",
    "\n",
    "epochs = conf('bert.train.epochs')\n",
    "for epoch_i in range(0, epochs):\n",
    "    print(f'\\n======= Epoch {epoch_i + 1} / {epochs} =======\\n')\n",
    "    print('Training...')\n",
    "    \n",
    "    t0 = time.time()\n",
    "    total_train_loss = 0\n",
    "    bert_model.train()\n",
    "        \n",
    "    for step, batch in enumerate(train_dataloader):\n",
    "        b_input_ids, b_input_mask, b_labels = extract_from_batch(batch, device)\n",
    "        bert_model.zero_grad()\n",
    "        \n",
    "        res = bert_model(\n",
    "            b_input_ids,\n",
    "            token_type_ids=None,\n",
    "            attention_mask=b_input_mask,\n",
    "            labels=b_labels\n",
    "        )\n",
    "        loss = res['loss']\n",
    "\n",
    "        total_train_loss += loss.item()\n",
    "        loss.backward()\n",
    "        torch.nn.utils.clip_grad_norm_(bert_model.parameters(), 1.0)\n",
    "\n",
    "        bert_optimizer.step()\n",
    "        bert_scheduler.step()\n",
    "        \n",
    "        log_step(step, 40, train_dataloader_length, t0)\n",
    "    \n",
    "    avg_train_loss = total_train_loss / train_dataloader_length\n",
    "    train_time = format_time_bert(time.time() - t0)\n",
    "    print(f'\\n\\tAverage training loss: {avg_train_loss}\\n\\tTraining epcoh took: {train_time}')\n",
    "\n",
    "    print('\\nRunning validation...')\n",
    "    t0 = time.time()\n",
    "    total_eval_accuracy = 0\n",
    "    total_eval_loss = 0\n",
    "    \n",
    "    bert_model.eval()\n",
    "    \n",
    "    for batch in val_dataloader:\n",
    "        b_input_ids, b_input_mask, b_labels = extract_from_batch(batch, device)\n",
    "        \n",
    "        with torch.no_grad():\n",
    "            res = bert_model(\n",
    "                b_input_ids,\n",
    "                token_type_ids=None,\n",
    "                attention_mask=b_input_mask,\n",
    "                labels=b_labels\n",
    "            )\n",
    "        loss = res['loss']\n",
    "        logits = res['logits']\n",
    "        total_eval_loss += loss.item()\n",
    "\n",
    "        logits = logits.detach().cpu().numpy()\n",
    "        label_ids = b_labels.to('cpu').numpy()\n",
    "\n",
    "        total_eval_accuracy += flat_accuracy_bert(logits, label_ids)\n",
    "        \n",
    "    avg_val_accuracy = total_eval_accuracy / val_dataloader_length\n",
    "    avg_val_loss = total_eval_loss / val_dataloader_length\n",
    "    val_time = format_time_bert(time.time() - t0)\n",
    "    print(f'\\n\\tAccuracy: {avg_val_accuracy}')\n",
    "    print(f'\\tValidation loss: {avg_val_loss}')\n",
    "    print(f'\\tValidation took: {val_time}')\n",
    "    \n",
    "    training_stats.append(\n",
    "        {\n",
    "            'epoch': epoch_i + 1,\n",
    "            'Training Loss': avg_train_loss,\n",
    "            'Valid. Loss': avg_val_loss,\n",
    "            'Valid. Accur.': avg_val_accuracy,\n",
    "            'Training Time': train_time,\n",
    "            'Validation Time': val_time\n",
    "        }\n",
    "    )\n",
    "\n",
    "print('\\nTrainig complete!')\n",
    "print(f'Total trainig took: {format_time_bert(time.time() - total_t0)}')\n",
    "\n",
    "df_stats = pd.DataFrame(data=training_stats)\n",
    "df_stats = df_stats.set_index('epoch')\n",
    "\n",
    "sns.set(style='darkgrid')\n",
    "sns.set(font_scale=1.5)\n",
    "plt.rcParams['figure.figsize'] = (12, 6)\n",
    "plt.plot(df_stats['Training Loss'], 'b-o', label=\"Training\")\n",
    "plt.plot(df_stats['Valid. Loss'], 'g-o', label=\"Validation\")\n",
    "\n",
    "plt.title(\"Training & Validation Loss\")\n",
    "plt.xlabel(\"Epoch\")\n",
    "plt.ylabel(\"Loss\")\n",
    "plt.legend()\n",
    "plt.xticks([i + 1 for i in range(epochs)])\n",
    "\n",
    "plt.show()\n",
    "\n",
    "conds.set('BERT is trained.', CList.BERT_TRAINED)"
   ]
  },
  {
   "cell_type": "markdown",
   "id": "f83e68d1",
   "metadata": {},
   "source": [
    "## BERT test & MCC calculation"
   ]
  },
  {
   "cell_type": "code",
   "execution_count": 12,
   "id": "530e2183",
   "metadata": {},
   "outputs": [
    {
     "name": "stdout",
     "output_type": "stream",
     "text": [
      "Positive samples: 733 of 983 (74.57%)\n",
      "Total MCC: 0.258\n",
      "BERT is tested.\n"
     ]
    }
   ],
   "source": [
    "conds.check(CList.BERT_SCHEDULER_CREATED)\n",
    "\n",
    "# < !!!\n",
    "def extract_from_batch(batch, device) -> tuple:\n",
    "    b_input_ids = batch[0].to(device)\n",
    "    b_input_mask = batch[1].to(device)\n",
    "    b_labels = batch[2].to(device)\n",
    "    return b_input_ids, b_input_mask, b_labels\n",
    "\n",
    "bert_model.eval()\n",
    "predictions, true_labels = [], []\n",
    "\n",
    "for batch in test_dataloader:\n",
    "    b_input_ids, b_input_mask, b_labels = extract_from_batch(batch, device)\n",
    "\n",
    "    with torch.no_grad():\n",
    "        outputs = bert_model(\n",
    "            b_input_ids,\n",
    "            token_type_ids=None,\n",
    "            attention_mask=b_input_mask\n",
    "        )\n",
    "    logits = outputs[0]\n",
    "    logits = logits.detach().cpu().numpy()\n",
    "    label_ids = b_labels.to('cpu').numpy()\n",
    "\n",
    "    predictions.append(logits)\n",
    "    true_labels.append(label_ids)\n",
    "\n",
    "print('Positive samples: %d of %d (%.2f%%)' % (test_dataframe.acceptable.sum(), len(test_dataframe.acceptable), (test_dataframe.acceptable.sum() / len(test_dataframe.acceptable) * 100.0)))\n",
    "\n",
    "matthews_set = []\n",
    "for i in range(len(true_labels)):\n",
    "    pred_labels_i = np.argmax(predictions[i], axis=1).flatten()\n",
    "    matthews = matthews_corrcoef(true_labels[i], pred_labels_i)\n",
    "    matthews_set.append(matthews)\n",
    "\n",
    "flat_predictions = np.concatenate(predictions, axis=0)\n",
    "flat_predictions = np.argmax(flat_predictions, axis=1).flatten()\n",
    "flat_true_labels = np.concatenate(true_labels, axis=0)\n",
    "mcc = matthews_corrcoef(flat_true_labels, flat_predictions)\n",
    "print('Total MCC: %.3f' % mcc)\n",
    "\n",
    "conds.set('BERT is tested.', CList.BERT_TESTED)"
   ]
  },
  {
   "cell_type": "markdown",
   "id": "514d93e8",
   "metadata": {},
   "source": [
    "## GPT preparation"
   ]
  },
  {
   "cell_type": "code",
   "execution_count": 17,
   "id": "37eb6456",
   "metadata": {},
   "outputs": [
    {
     "name": "stdout",
     "output_type": "stream",
     "text": [
      "GPT preparation is done.\n"
     ]
    }
   ],
   "source": [
    "conds.check(CList.TOKENIZERS_MODELS_CREATED)\n",
    "\n",
    "def calc_gpt_loss(text):\n",
    "    inputs = gpt_tokenizer.encode(text, return_tensors='pt').reshape(-1).to(device)\n",
    "    with torch.no_grad():\n",
    "        loss = gpt_model(input_ids=inputs, labels=inputs).loss.item()\n",
    "    return loss\n",
    "\n",
    "def shot_gpt(begin: str, text: str, positive_statement: str, negative_statement: str):\n",
    "    positive_loss = calc_gpt_loss(' '.join([begin, text, positive_statement]))\n",
    "    negative_loss = calc_gpt_loss(' '.join([begin, text, negative_statement]))\n",
    "\n",
    "    return 1 if positive_loss > negative_loss else 0\n",
    "\n",
    "gpt_model.to(device)\n",
    "\n",
    "conds.set('GPT preparation is done.', CList.GPT_PREPARED)"
   ]
  },
  {
   "cell_type": "markdown",
   "id": "e257b644",
   "metadata": {},
   "source": [
    "## Zero shot"
   ]
  },
  {
   "cell_type": "code",
   "execution_count": 18,
   "id": "9a97d964",
   "metadata": {},
   "outputs": [
    {
     "name": "stderr",
     "output_type": "stream",
     "text": [
      "100%|████████████████████████████████████████████████████████████████████████████████| 983/983 [00:44<00:00, 21.88it/s]\n"
     ]
    },
    {
     "name": "stdout",
     "output_type": "stream",
     "text": [
      "Begin: Если ли здесь ошибка?, positive_statement: Предложение правильное., negative_statement: Допущена ошибка.\n",
      "F1-score: 0.8543123543123543\n"
     ]
    },
    {
     "name": "stderr",
     "output_type": "stream",
     "text": [
      "100%|████████████████████████████████████████████████████████████████████████████████| 983/983 [00:44<00:00, 22.16it/s]\n"
     ]
    },
    {
     "name": "stdout",
     "output_type": "stream",
     "text": [
      "Begin: Если ли здесь ошибка?, positive_statement: Нет., negative_statement: Есть.\n",
      "F1-score: 0.01349527665317139\n"
     ]
    },
    {
     "name": "stderr",
     "output_type": "stream",
     "text": [
      "100%|████████████████████████████████████████████████████████████████████████████████| 983/983 [00:44<00:00, 22.16it/s]\n"
     ]
    },
    {
     "name": "stdout",
     "output_type": "stream",
     "text": [
      "Begin: Если ли здесь ошибка?, positive_statement: Отсутствует., negative_statement: Присутствует.\n",
      "F1-score: 0.13184079601990048\n"
     ]
    },
    {
     "name": "stderr",
     "output_type": "stream",
     "text": [
      "100%|████████████████████████████████████████████████████████████████████████████████| 983/983 [00:44<00:00, 22.15it/s]\n"
     ]
    },
    {
     "name": "stdout",
     "output_type": "stream",
     "text": [
      "Begin: Проверь на ошибки., positive_statement: Нет, negative_statement: Есть.\n",
      "F1-score: 0.14390243902439026\n"
     ]
    },
    {
     "name": "stderr",
     "output_type": "stream",
     "text": [
      "100%|████████████████████████████████████████████████████████████████████████████████| 983/983 [00:45<00:00, 21.48it/s]"
     ]
    },
    {
     "name": "stdout",
     "output_type": "stream",
     "text": [
      "Begin: Проверь на ошибки., positive_statement: Отсутствуют., negative_statement: Присутствуют.\n",
      "F1-score: 0.19437939110070257\n"
     ]
    },
    {
     "name": "stderr",
     "output_type": "stream",
     "text": [
      "\n"
     ]
    }
   ],
   "source": [
    "conds.check(CList.GPT_PREPARED)\n",
    "\n",
    "tasks = [\n",
    "    {\n",
    "        'begin': 'Если ли здесь ошибка?',\n",
    "        'positive_statement': 'Предложение правильное.',\n",
    "        'negative_statement': 'Допущена ошибка.'\n",
    "    },\n",
    "    {\n",
    "        'begin': 'Если ли здесь ошибка?',\n",
    "        'positive_statement': 'Нет.',\n",
    "        'negative_statement': 'Есть.'\n",
    "    },\n",
    "    {\n",
    "        'begin': 'Если ли здесь ошибка?',\n",
    "        'positive_statement': 'Отсутствует.',\n",
    "        'negative_statement': 'Присутствует.'\n",
    "    },\n",
    "    {\n",
    "        'begin': 'Проверь на ошибки.',\n",
    "        'positive_statement': 'Нет',\n",
    "        'negative_statement': 'Есть.'\n",
    "    },\n",
    "    {\n",
    "        'begin': 'Проверь на ошибки.',\n",
    "        'positive_statement': 'Отсутствуют.',\n",
    "        'negative_statement': 'Присутствуют.'\n",
    "    }\n",
    "]\n",
    "\n",
    "# use and mcc and f1\n",
    "# < find best\n",
    "\n",
    "for task in tasks:\n",
    "    progress_function = lambda text: shot_gpt(task['begin'], text, task['positive_statement'], task['negative_statement'])\n",
    "    y_pred = test_dataframe['sentence'].progress_apply(progress_function)\n",
    "    print(f'Begin: {task[\"begin\"]}, positive_statement: {task[\"positive_statement\"]}, negative_statement: {task[\"negative_statement\"]}')\n",
    "    print(f'F1-score: {f1_score(y_pred, test_dataframe[\"acceptable\"])}')\n"
   ]
  },
  {
   "cell_type": "markdown",
   "id": "aafd7db4",
   "metadata": {},
   "source": [
    "## Few shot (3)"
   ]
  },
  {
   "cell_type": "code",
   "execution_count": 19,
   "id": "d38b3bdd",
   "metadata": {},
   "outputs": [
    {
     "name": "stderr",
     "output_type": "stream",
     "text": [
      "100%|████████████████████████████████████████████████████████████████████████████████| 983/983 [01:10<00:00, 14.02it/s]"
     ]
    },
    {
     "name": "stdout",
     "output_type": "stream",
     "text": [
      "F1-score: 0.8543123543123543\n"
     ]
    },
    {
     "name": "stderr",
     "output_type": "stream",
     "text": [
      "\n"
     ]
    }
   ],
   "source": [
    "conds.check(CList.GPT_PREPARED)\n",
    "\n",
    "promt = \"\"\"Проверить корректность предложения:\n",
    "Иван вчера не позвонил. => Верно\n",
    "Лесные запахи набегали волнами; в них смешалось дыхание можжевельника, вереска, брусники. => Верно\n",
    "У многих туристов, кто посещают Кемер весной, есть шанс застать снег на вершине горы Тахталы и даже сочетать пляжный отдых с горнолыжным. => Неверно\n",
    "\"\"\"\n",
    "\n",
    "y_pred = test_dataframe['sentence'].progress_apply(lambda text: shot_gpt(promt, text, ' => Верно', ' => Неверно'))\n",
    "print(f'F1-score: {f1_score(y_pred, test_dataframe[\"acceptable\"])}')\n"
   ]
  },
  {
   "cell_type": "markdown",
   "id": "90b8e63b",
   "metadata": {},
   "source": [
    "## Few shot (5)"
   ]
  },
  {
   "cell_type": "code",
   "execution_count": 20,
   "id": "2b5dfffb",
   "metadata": {},
   "outputs": [
    {
     "name": "stderr",
     "output_type": "stream",
     "text": [
      "100%|████████████████████████████████████████████████████████████████████████████████| 983/983 [01:11<00:00, 13.69it/s]"
     ]
    },
    {
     "name": "stdout",
     "output_type": "stream",
     "text": [
      "F1-score: 0.8543123543123543\n"
     ]
    },
    {
     "name": "stderr",
     "output_type": "stream",
     "text": [
      "\n"
     ]
    }
   ],
   "source": [
    "conds.check(CList.GPT_PREPARED)\n",
    "\n",
    "promt = \"\"\"Проверить корректность предложения:\n",
    "Вчера президент имел неофициальную беседу с английским послом. => Верно\n",
    "А ты ехай прямо к директору театров, князю Гагарину. => Неверно\n",
    "Коллега так и не признал вину за катастрофу перед коллективом. => Верно\n",
    "Малыш уже уверенно читает слова через мягкий знак. => Неверно\n",
    "Я говорил с ним только ради Вас. => Верно\n",
    "\"\"\"\n",
    "\n",
    "y_pred = test_dataframe['sentence'].progress_apply(lambda text: shot_gpt(promt, text, ' => Верно', ' => Неверно'))\n",
    "print(f'F1-score: {f1_score(y_pred, test_dataframe[\"acceptable\"])}')"
   ]
  },
  {
   "cell_type": "markdown",
   "id": "117a5550",
   "metadata": {},
   "source": [
    "## Few shot (10)"
   ]
  },
  {
   "cell_type": "code",
   "execution_count": 21,
   "id": "1c391f41",
   "metadata": {},
   "outputs": [
    {
     "name": "stderr",
     "output_type": "stream",
     "text": [
      "100%|████████████████████████████████████████████████████████████████████████████████| 983/983 [01:47<00:00,  9.12it/s]"
     ]
    },
    {
     "name": "stdout",
     "output_type": "stream",
     "text": [
      "F1-score: 0.8543123543123543\n"
     ]
    },
    {
     "name": "stderr",
     "output_type": "stream",
     "text": [
      "\n"
     ]
    }
   ],
   "source": [
    "conds.check(CList.GPT_PREPARED)\n",
    "\n",
    "promt = \"\"\"Проверить корректность предложения:\n",
    "Только бы он громко не закричал, когда найдет решение. => Верно\n",
    "Но Коле не помог его иноверец. => Неверно\n",
    "Гармоничные пропорции здания основаны на классических образцах. => Верно\n",
    "Вчера мне нужно ехать на завод. => Неверно\n",
    "Дело приняло дурной оборот. => Верно\n",
    "Я стою поблизости от Центризбиркома и наблюдаю за тем, что происходит у входа. => Неверно\n",
    "Вани не было в школе. => Верно\n",
    "В качестве примеров были приведены случаи, о которых, кажется, что где-то я уже читал. => Неверно\n",
    "Кожа у виска была желтой. => Верно\n",
    "В эту минуту роман был прочитан. => Неверно\n",
    "\"\"\"\n",
    "\n",
    "y_pred = test_dataframe['sentence'].progress_apply(lambda text: shot_gpt(promt, text, ' => Верно', ' => Неверно'))\n",
    "print(f'F1-score: {f1_score(y_pred, test_dataframe[\"acceptable\"])}')"
   ]
  },
  {
   "cell_type": "markdown",
   "id": "afd06a93",
   "metadata": {},
   "source": [
    "## T5"
   ]
  },
  {
   "cell_type": "code",
   "execution_count": 13,
   "id": "60d1cc0f",
   "metadata": {},
   "outputs": [
    {
     "name": "stderr",
     "output_type": "stream",
     "text": [
      "C:\\Users\\KasymbekovPN\\AppData\\Local\\Temp\\ipykernel_11696\\1797478514.py:3: FutureWarning: load_metric is deprecated and will be removed in the next major version of datasets. Use 'evaluate.load' instead, from the new library 🤗 Evaluate: https://huggingface.co/docs/evaluate\n",
      "  ACCURACY = load_metric('accuracy', keep_in_memory=True)\n"
     ]
    },
    {
     "name": "stdout",
     "output_type": "stream",
     "text": [
      " Dataset ./data/in_domain_train.csv is already downloaded.\n",
      " Dataset ./data/in_domain_dev.csv is already downloaded.\n",
      " Dataset ./data/out_of_domain_dev.csv is already downloaded.\n",
      " Dataset ./data/test.csv is already downloaded.\n"
     ]
    },
    {
     "name": "stderr",
     "output_type": "stream",
     "text": [
      "You are using the legacy behaviour of the <class 'transformers.models.t5.tokenization_t5.T5Tokenizer'>. This means that tokens that come after special tokens will not be properly handled. We recommend you to read the related pull request available at https://github.com/huggingface/transformers/pull/24565\n",
      "C:\\Python310\\lib\\site-packages\\dill\\_dill.py:412: PicklingWarning: Cannot locate reference to <class 'razdel.segmenters.tokenize.TokenSegmenter'>.\n",
      "  StockPickler.save(self, obj, save_persistent_id)\n",
      "C:\\Python310\\lib\\site-packages\\dill\\_dill.py:412: PicklingWarning: Cannot pickle <class 'razdel.segmenters.tokenize.TokenSegmenter'>: razdel.segmenters.tokenize.TokenSegmenter has recursive self-references that trigger a RecursionError.\n",
      "  StockPickler.save(self, obj, save_persistent_id)\n",
      "Map: 100%|████████████████████████████████████████████████████████████████| 7869/7869 [00:01<00:00, 6902.29 examples/s]\n",
      "Map: 100%|████████████████████████████████████████████████████████████████| 2787/2787 [00:00<00:00, 6304.02 examples/s]\n",
      "Map: 100%|████████████████████████████████████████████████████████████████| 2789/2789 [00:00<00:00, 6549.53 examples/s]\n"
     ]
    },
    {
     "data": {
      "text/html": [
       "\n",
       "    <div>\n",
       "      \n",
       "      <progress value='1240' max='1240' style='width:300px; height:20px; vertical-align: middle;'></progress>\n",
       "      [1240/1240 3:40:32, Epoch 20/20]\n",
       "    </div>\n",
       "    <table border=\"1\" class=\"dataframe\">\n",
       "  <thead>\n",
       " <tr style=\"text-align: left;\">\n",
       "      <th>Epoch</th>\n",
       "      <th>Training Loss</th>\n",
       "      <th>Validation Loss</th>\n",
       "      <th>Accuracy</th>\n",
       "      <th>Mcc</th>\n",
       "    </tr>\n",
       "  </thead>\n",
       "  <tbody>\n",
       "    <tr>\n",
       "      <td>1</td>\n",
       "      <td>No log</td>\n",
       "      <td>0.000000</td>\n",
       "      <td>1.000000</td>\n",
       "      <td>0.000000</td>\n",
       "    </tr>\n",
       "    <tr>\n",
       "      <td>2</td>\n",
       "      <td>No log</td>\n",
       "      <td>0.000000</td>\n",
       "      <td>1.000000</td>\n",
       "      <td>0.000000</td>\n",
       "    </tr>\n",
       "    <tr>\n",
       "      <td>3</td>\n",
       "      <td>No log</td>\n",
       "      <td>0.000000</td>\n",
       "      <td>1.000000</td>\n",
       "      <td>0.000000</td>\n",
       "    </tr>\n",
       "    <tr>\n",
       "      <td>4</td>\n",
       "      <td>No log</td>\n",
       "      <td>0.000000</td>\n",
       "      <td>1.000000</td>\n",
       "      <td>0.000000</td>\n",
       "    </tr>\n",
       "    <tr>\n",
       "      <td>5</td>\n",
       "      <td>No log</td>\n",
       "      <td>0.000000</td>\n",
       "      <td>1.000000</td>\n",
       "      <td>0.000000</td>\n",
       "    </tr>\n",
       "    <tr>\n",
       "      <td>6</td>\n",
       "      <td>No log</td>\n",
       "      <td>0.000000</td>\n",
       "      <td>1.000000</td>\n",
       "      <td>0.000000</td>\n",
       "    </tr>\n",
       "    <tr>\n",
       "      <td>7</td>\n",
       "      <td>No log</td>\n",
       "      <td>0.000000</td>\n",
       "      <td>1.000000</td>\n",
       "      <td>0.000000</td>\n",
       "    </tr>\n",
       "    <tr>\n",
       "      <td>8</td>\n",
       "      <td>No log</td>\n",
       "      <td>0.000000</td>\n",
       "      <td>1.000000</td>\n",
       "      <td>0.000000</td>\n",
       "    </tr>\n",
       "    <tr>\n",
       "      <td>9</td>\n",
       "      <td>0.182000</td>\n",
       "      <td>0.000000</td>\n",
       "      <td>1.000000</td>\n",
       "      <td>0.000000</td>\n",
       "    </tr>\n",
       "    <tr>\n",
       "      <td>10</td>\n",
       "      <td>0.182000</td>\n",
       "      <td>0.000000</td>\n",
       "      <td>1.000000</td>\n",
       "      <td>0.000000</td>\n",
       "    </tr>\n",
       "    <tr>\n",
       "      <td>11</td>\n",
       "      <td>0.182000</td>\n",
       "      <td>0.000000</td>\n",
       "      <td>1.000000</td>\n",
       "      <td>0.000000</td>\n",
       "    </tr>\n",
       "    <tr>\n",
       "      <td>12</td>\n",
       "      <td>0.182000</td>\n",
       "      <td>0.000000</td>\n",
       "      <td>1.000000</td>\n",
       "      <td>0.000000</td>\n",
       "    </tr>\n",
       "    <tr>\n",
       "      <td>13</td>\n",
       "      <td>0.182000</td>\n",
       "      <td>0.000000</td>\n",
       "      <td>1.000000</td>\n",
       "      <td>0.000000</td>\n",
       "    </tr>\n",
       "    <tr>\n",
       "      <td>14</td>\n",
       "      <td>0.182000</td>\n",
       "      <td>0.000000</td>\n",
       "      <td>1.000000</td>\n",
       "      <td>0.000000</td>\n",
       "    </tr>\n",
       "    <tr>\n",
       "      <td>15</td>\n",
       "      <td>0.182000</td>\n",
       "      <td>0.000000</td>\n",
       "      <td>1.000000</td>\n",
       "      <td>0.000000</td>\n",
       "    </tr>\n",
       "    <tr>\n",
       "      <td>16</td>\n",
       "      <td>0.182000</td>\n",
       "      <td>0.000000</td>\n",
       "      <td>1.000000</td>\n",
       "      <td>0.000000</td>\n",
       "    </tr>\n",
       "    <tr>\n",
       "      <td>17</td>\n",
       "      <td>0.000000</td>\n",
       "      <td>0.000000</td>\n",
       "      <td>1.000000</td>\n",
       "      <td>0.000000</td>\n",
       "    </tr>\n",
       "    <tr>\n",
       "      <td>18</td>\n",
       "      <td>0.000000</td>\n",
       "      <td>0.000000</td>\n",
       "      <td>1.000000</td>\n",
       "      <td>0.000000</td>\n",
       "    </tr>\n",
       "    <tr>\n",
       "      <td>19</td>\n",
       "      <td>0.000000</td>\n",
       "      <td>0.000000</td>\n",
       "      <td>1.000000</td>\n",
       "      <td>0.000000</td>\n",
       "    </tr>\n",
       "    <tr>\n",
       "      <td>20</td>\n",
       "      <td>0.000000</td>\n",
       "      <td>0.000000</td>\n",
       "      <td>1.000000</td>\n",
       "      <td>0.000000</td>\n",
       "    </tr>\n",
       "  </tbody>\n",
       "</table><p>"
      ],
      "text/plain": [
       "<IPython.core.display.HTML object>"
      ]
     },
     "metadata": {},
     "output_type": "display_data"
    },
    {
     "name": "stdout",
     "output_type": "stream",
     "text": [
      "t5-base_0.0001_0_128_0\n",
      "train {'train_runtime': 13249.8882, 'train_samples_per_second': 11.878, 'train_steps_per_second': 0.094, 'total_flos': 8984793076531200.0, 'train_loss': 0.07336962467795216, 'epoch': 20.0}\n"
     ]
    },
    {
     "data": {
      "text/html": [],
      "text/plain": [
       "<IPython.core.display.HTML object>"
      ]
     },
     "metadata": {},
     "output_type": "display_data"
    },
    {
     "name": "stdout",
     "output_type": "stream",
     "text": [
      "dev {'test_loss': 2.9456572292474448e-08, 'test_accuracy': 1.0, 'test_mcc': 0.0, 'test_runtime': 95.0673, 'test_samples_per_second': 29.316, 'test_steps_per_second': 0.231}\n"
     ]
    },
    {
     "data": {
      "text/html": [],
      "text/plain": [
       "<IPython.core.display.HTML object>"
      ]
     },
     "metadata": {},
     "output_type": "display_data"
    },
    {
     "data": {
      "text/html": [
       "\n",
       "    <div>\n",
       "      \n",
       "      <progress value='1240' max='1240' style='width:300px; height:20px; vertical-align: middle;'></progress>\n",
       "      [1240/1240 3:53:35, Epoch 20/20]\n",
       "    </div>\n",
       "    <table border=\"1\" class=\"dataframe\">\n",
       "  <thead>\n",
       " <tr style=\"text-align: left;\">\n",
       "      <th>Epoch</th>\n",
       "      <th>Training Loss</th>\n",
       "      <th>Validation Loss</th>\n",
       "      <th>Accuracy</th>\n",
       "      <th>Mcc</th>\n",
       "    </tr>\n",
       "  </thead>\n",
       "  <tbody>\n",
       "    <tr>\n",
       "      <td>1</td>\n",
       "      <td>No log</td>\n",
       "      <td>0.000000</td>\n",
       "      <td>1.000000</td>\n",
       "      <td>0.000000</td>\n",
       "    </tr>\n",
       "    <tr>\n",
       "      <td>2</td>\n",
       "      <td>No log</td>\n",
       "      <td>0.000000</td>\n",
       "      <td>1.000000</td>\n",
       "      <td>0.000000</td>\n",
       "    </tr>\n",
       "    <tr>\n",
       "      <td>3</td>\n",
       "      <td>No log</td>\n",
       "      <td>0.000000</td>\n",
       "      <td>1.000000</td>\n",
       "      <td>0.000000</td>\n",
       "    </tr>\n",
       "    <tr>\n",
       "      <td>4</td>\n",
       "      <td>No log</td>\n",
       "      <td>0.000000</td>\n",
       "      <td>1.000000</td>\n",
       "      <td>0.000000</td>\n",
       "    </tr>\n",
       "    <tr>\n",
       "      <td>5</td>\n",
       "      <td>No log</td>\n",
       "      <td>0.000000</td>\n",
       "      <td>1.000000</td>\n",
       "      <td>0.000000</td>\n",
       "    </tr>\n",
       "    <tr>\n",
       "      <td>6</td>\n",
       "      <td>No log</td>\n",
       "      <td>0.000000</td>\n",
       "      <td>1.000000</td>\n",
       "      <td>0.000000</td>\n",
       "    </tr>\n",
       "    <tr>\n",
       "      <td>7</td>\n",
       "      <td>No log</td>\n",
       "      <td>0.000000</td>\n",
       "      <td>1.000000</td>\n",
       "      <td>0.000000</td>\n",
       "    </tr>\n",
       "    <tr>\n",
       "      <td>8</td>\n",
       "      <td>No log</td>\n",
       "      <td>0.000000</td>\n",
       "      <td>1.000000</td>\n",
       "      <td>0.000000</td>\n",
       "    </tr>\n",
       "    <tr>\n",
       "      <td>9</td>\n",
       "      <td>0.182000</td>\n",
       "      <td>0.000000</td>\n",
       "      <td>1.000000</td>\n",
       "      <td>0.000000</td>\n",
       "    </tr>\n",
       "    <tr>\n",
       "      <td>10</td>\n",
       "      <td>0.182000</td>\n",
       "      <td>0.000000</td>\n",
       "      <td>1.000000</td>\n",
       "      <td>0.000000</td>\n",
       "    </tr>\n",
       "    <tr>\n",
       "      <td>11</td>\n",
       "      <td>0.182000</td>\n",
       "      <td>0.000000</td>\n",
       "      <td>1.000000</td>\n",
       "      <td>0.000000</td>\n",
       "    </tr>\n",
       "    <tr>\n",
       "      <td>12</td>\n",
       "      <td>0.182000</td>\n",
       "      <td>0.000000</td>\n",
       "      <td>1.000000</td>\n",
       "      <td>0.000000</td>\n",
       "    </tr>\n",
       "    <tr>\n",
       "      <td>13</td>\n",
       "      <td>0.182000</td>\n",
       "      <td>0.000000</td>\n",
       "      <td>1.000000</td>\n",
       "      <td>0.000000</td>\n",
       "    </tr>\n",
       "    <tr>\n",
       "      <td>14</td>\n",
       "      <td>0.182000</td>\n",
       "      <td>0.000000</td>\n",
       "      <td>1.000000</td>\n",
       "      <td>0.000000</td>\n",
       "    </tr>\n",
       "    <tr>\n",
       "      <td>15</td>\n",
       "      <td>0.182000</td>\n",
       "      <td>0.000000</td>\n",
       "      <td>1.000000</td>\n",
       "      <td>0.000000</td>\n",
       "    </tr>\n",
       "    <tr>\n",
       "      <td>16</td>\n",
       "      <td>0.182000</td>\n",
       "      <td>0.000000</td>\n",
       "      <td>1.000000</td>\n",
       "      <td>0.000000</td>\n",
       "    </tr>\n",
       "    <tr>\n",
       "      <td>17</td>\n",
       "      <td>0.000000</td>\n",
       "      <td>0.000000</td>\n",
       "      <td>1.000000</td>\n",
       "      <td>0.000000</td>\n",
       "    </tr>\n",
       "    <tr>\n",
       "      <td>18</td>\n",
       "      <td>0.000000</td>\n",
       "      <td>0.000000</td>\n",
       "      <td>1.000000</td>\n",
       "      <td>0.000000</td>\n",
       "    </tr>\n",
       "    <tr>\n",
       "      <td>19</td>\n",
       "      <td>0.000000</td>\n",
       "      <td>0.000000</td>\n",
       "      <td>1.000000</td>\n",
       "      <td>0.000000</td>\n",
       "    </tr>\n",
       "    <tr>\n",
       "      <td>20</td>\n",
       "      <td>0.000000</td>\n",
       "      <td>0.000000</td>\n",
       "      <td>1.000000</td>\n",
       "      <td>0.000000</td>\n",
       "    </tr>\n",
       "  </tbody>\n",
       "</table><p>"
      ],
      "text/plain": [
       "<IPython.core.display.HTML object>"
      ]
     },
     "metadata": {},
     "output_type": "display_data"
    },
    {
     "name": "stdout",
     "output_type": "stream",
     "text": [
      "t5-base_0.0001_0.0001_128_0\n",
      "train {'train_runtime': 14032.2476, 'train_samples_per_second': 11.216, 'train_steps_per_second': 0.088, 'total_flos': 8984793076531200.0, 'train_loss': 0.07336962467795216, 'epoch': 20.0}\n"
     ]
    },
    {
     "data": {
      "text/html": [],
      "text/plain": [
       "<IPython.core.display.HTML object>"
      ]
     },
     "metadata": {},
     "output_type": "display_data"
    },
    {
     "name": "stdout",
     "output_type": "stream",
     "text": [
      "dev {'test_loss': 2.9456572292474448e-08, 'test_accuracy': 1.0, 'test_mcc': 0.0, 'test_runtime': 139.6134, 'test_samples_per_second': 19.962, 'test_steps_per_second': 0.158}\n"
     ]
    },
    {
     "data": {
      "text/html": [],
      "text/plain": [
       "<IPython.core.display.HTML object>"
      ]
     },
     "metadata": {},
     "output_type": "display_data"
    },
    {
     "data": {
      "text/html": [
       "\n",
       "    <div>\n",
       "      \n",
       "      <progress value='1240' max='1240' style='width:300px; height:20px; vertical-align: middle;'></progress>\n",
       "      [1240/1240 4:25:28, Epoch 20/20]\n",
       "    </div>\n",
       "    <table border=\"1\" class=\"dataframe\">\n",
       "  <thead>\n",
       " <tr style=\"text-align: left;\">\n",
       "      <th>Epoch</th>\n",
       "      <th>Training Loss</th>\n",
       "      <th>Validation Loss</th>\n",
       "      <th>Accuracy</th>\n",
       "      <th>Mcc</th>\n",
       "    </tr>\n",
       "  </thead>\n",
       "  <tbody>\n",
       "    <tr>\n",
       "      <td>1</td>\n",
       "      <td>No log</td>\n",
       "      <td>0.000000</td>\n",
       "      <td>1.000000</td>\n",
       "      <td>0.000000</td>\n",
       "    </tr>\n",
       "    <tr>\n",
       "      <td>2</td>\n",
       "      <td>No log</td>\n",
       "      <td>0.000000</td>\n",
       "      <td>1.000000</td>\n",
       "      <td>0.000000</td>\n",
       "    </tr>\n",
       "    <tr>\n",
       "      <td>3</td>\n",
       "      <td>No log</td>\n",
       "      <td>0.000000</td>\n",
       "      <td>1.000000</td>\n",
       "      <td>0.000000</td>\n",
       "    </tr>\n",
       "    <tr>\n",
       "      <td>4</td>\n",
       "      <td>No log</td>\n",
       "      <td>0.000000</td>\n",
       "      <td>1.000000</td>\n",
       "      <td>0.000000</td>\n",
       "    </tr>\n",
       "    <tr>\n",
       "      <td>5</td>\n",
       "      <td>No log</td>\n",
       "      <td>0.000000</td>\n",
       "      <td>1.000000</td>\n",
       "      <td>0.000000</td>\n",
       "    </tr>\n",
       "    <tr>\n",
       "      <td>6</td>\n",
       "      <td>No log</td>\n",
       "      <td>0.000000</td>\n",
       "      <td>1.000000</td>\n",
       "      <td>0.000000</td>\n",
       "    </tr>\n",
       "    <tr>\n",
       "      <td>7</td>\n",
       "      <td>No log</td>\n",
       "      <td>0.000000</td>\n",
       "      <td>1.000000</td>\n",
       "      <td>0.000000</td>\n",
       "    </tr>\n",
       "    <tr>\n",
       "      <td>8</td>\n",
       "      <td>No log</td>\n",
       "      <td>0.000000</td>\n",
       "      <td>1.000000</td>\n",
       "      <td>0.000000</td>\n",
       "    </tr>\n",
       "    <tr>\n",
       "      <td>9</td>\n",
       "      <td>0.225800</td>\n",
       "      <td>0.000000</td>\n",
       "      <td>1.000000</td>\n",
       "      <td>0.000000</td>\n",
       "    </tr>\n",
       "    <tr>\n",
       "      <td>10</td>\n",
       "      <td>0.225800</td>\n",
       "      <td>0.000000</td>\n",
       "      <td>1.000000</td>\n",
       "      <td>0.000000</td>\n",
       "    </tr>\n",
       "    <tr>\n",
       "      <td>11</td>\n",
       "      <td>0.225800</td>\n",
       "      <td>0.000000</td>\n",
       "      <td>1.000000</td>\n",
       "      <td>0.000000</td>\n",
       "    </tr>\n",
       "    <tr>\n",
       "      <td>12</td>\n",
       "      <td>0.225800</td>\n",
       "      <td>0.000000</td>\n",
       "      <td>1.000000</td>\n",
       "      <td>0.000000</td>\n",
       "    </tr>\n",
       "    <tr>\n",
       "      <td>13</td>\n",
       "      <td>0.225800</td>\n",
       "      <td>0.000000</td>\n",
       "      <td>1.000000</td>\n",
       "      <td>0.000000</td>\n",
       "    </tr>\n",
       "    <tr>\n",
       "      <td>14</td>\n",
       "      <td>0.225800</td>\n",
       "      <td>0.000000</td>\n",
       "      <td>1.000000</td>\n",
       "      <td>0.000000</td>\n",
       "    </tr>\n",
       "    <tr>\n",
       "      <td>15</td>\n",
       "      <td>0.225800</td>\n",
       "      <td>0.000000</td>\n",
       "      <td>1.000000</td>\n",
       "      <td>0.000000</td>\n",
       "    </tr>\n",
       "    <tr>\n",
       "      <td>16</td>\n",
       "      <td>0.225800</td>\n",
       "      <td>0.000000</td>\n",
       "      <td>1.000000</td>\n",
       "      <td>0.000000</td>\n",
       "    </tr>\n",
       "    <tr>\n",
       "      <td>17</td>\n",
       "      <td>0.000000</td>\n",
       "      <td>0.000000</td>\n",
       "      <td>1.000000</td>\n",
       "      <td>0.000000</td>\n",
       "    </tr>\n",
       "    <tr>\n",
       "      <td>18</td>\n",
       "      <td>0.000000</td>\n",
       "      <td>0.000000</td>\n",
       "      <td>1.000000</td>\n",
       "      <td>0.000000</td>\n",
       "    </tr>\n",
       "    <tr>\n",
       "      <td>19</td>\n",
       "      <td>0.000000</td>\n",
       "      <td>0.000000</td>\n",
       "      <td>1.000000</td>\n",
       "      <td>0.000000</td>\n",
       "    </tr>\n",
       "    <tr>\n",
       "      <td>20</td>\n",
       "      <td>0.000000</td>\n",
       "      <td>0.000000</td>\n",
       "      <td>1.000000</td>\n",
       "      <td>0.000000</td>\n",
       "    </tr>\n",
       "  </tbody>\n",
       "</table><p>"
      ],
      "text/plain": [
       "<IPython.core.display.HTML object>"
      ]
     },
     "metadata": {},
     "output_type": "display_data"
    },
    {
     "name": "stdout",
     "output_type": "stream",
     "text": [
      "t5-base_0.001_0_128_0\n",
      "train {'train_runtime': 15946.0479, 'train_samples_per_second': 9.87, 'train_steps_per_second': 0.078, 'total_flos': 8984793076531200.0, 'train_loss': 0.09103632387304213, 'epoch': 20.0}\n"
     ]
    },
    {
     "data": {
      "text/html": [],
      "text/plain": [
       "<IPython.core.display.HTML object>"
      ]
     },
     "metadata": {},
     "output_type": "display_data"
    },
    {
     "name": "stdout",
     "output_type": "stream",
     "text": [
      "dev {'test_loss': 0.0, 'test_accuracy': 1.0, 'test_mcc': 0.0, 'test_runtime': 66.4812, 'test_samples_per_second': 41.922, 'test_steps_per_second': 0.331}\n"
     ]
    },
    {
     "data": {
      "text/html": [],
      "text/plain": [
       "<IPython.core.display.HTML object>"
      ]
     },
     "metadata": {},
     "output_type": "display_data"
    },
    {
     "data": {
      "text/html": [
       "\n",
       "    <div>\n",
       "      \n",
       "      <progress value='1240' max='1240' style='width:300px; height:20px; vertical-align: middle;'></progress>\n",
       "      [1240/1240 1:27:48, Epoch 20/20]\n",
       "    </div>\n",
       "    <table border=\"1\" class=\"dataframe\">\n",
       "  <thead>\n",
       " <tr style=\"text-align: left;\">\n",
       "      <th>Epoch</th>\n",
       "      <th>Training Loss</th>\n",
       "      <th>Validation Loss</th>\n",
       "      <th>Accuracy</th>\n",
       "      <th>Mcc</th>\n",
       "    </tr>\n",
       "  </thead>\n",
       "  <tbody>\n",
       "    <tr>\n",
       "      <td>1</td>\n",
       "      <td>No log</td>\n",
       "      <td>0.000000</td>\n",
       "      <td>1.000000</td>\n",
       "      <td>0.000000</td>\n",
       "    </tr>\n",
       "    <tr>\n",
       "      <td>2</td>\n",
       "      <td>No log</td>\n",
       "      <td>0.000000</td>\n",
       "      <td>1.000000</td>\n",
       "      <td>0.000000</td>\n",
       "    </tr>\n",
       "    <tr>\n",
       "      <td>3</td>\n",
       "      <td>No log</td>\n",
       "      <td>0.000000</td>\n",
       "      <td>1.000000</td>\n",
       "      <td>0.000000</td>\n",
       "    </tr>\n",
       "    <tr>\n",
       "      <td>4</td>\n",
       "      <td>No log</td>\n",
       "      <td>0.000000</td>\n",
       "      <td>1.000000</td>\n",
       "      <td>0.000000</td>\n",
       "    </tr>\n",
       "    <tr>\n",
       "      <td>5</td>\n",
       "      <td>No log</td>\n",
       "      <td>0.000000</td>\n",
       "      <td>1.000000</td>\n",
       "      <td>0.000000</td>\n",
       "    </tr>\n",
       "    <tr>\n",
       "      <td>6</td>\n",
       "      <td>No log</td>\n",
       "      <td>0.000000</td>\n",
       "      <td>1.000000</td>\n",
       "      <td>0.000000</td>\n",
       "    </tr>\n",
       "    <tr>\n",
       "      <td>7</td>\n",
       "      <td>No log</td>\n",
       "      <td>0.000000</td>\n",
       "      <td>1.000000</td>\n",
       "      <td>0.000000</td>\n",
       "    </tr>\n",
       "    <tr>\n",
       "      <td>8</td>\n",
       "      <td>No log</td>\n",
       "      <td>0.000000</td>\n",
       "      <td>1.000000</td>\n",
       "      <td>0.000000</td>\n",
       "    </tr>\n",
       "    <tr>\n",
       "      <td>9</td>\n",
       "      <td>0.236100</td>\n",
       "      <td>0.000000</td>\n",
       "      <td>1.000000</td>\n",
       "      <td>0.000000</td>\n",
       "    </tr>\n",
       "    <tr>\n",
       "      <td>10</td>\n",
       "      <td>0.236100</td>\n",
       "      <td>0.000000</td>\n",
       "      <td>1.000000</td>\n",
       "      <td>0.000000</td>\n",
       "    </tr>\n",
       "    <tr>\n",
       "      <td>11</td>\n",
       "      <td>0.236100</td>\n",
       "      <td>0.000000</td>\n",
       "      <td>1.000000</td>\n",
       "      <td>0.000000</td>\n",
       "    </tr>\n",
       "    <tr>\n",
       "      <td>12</td>\n",
       "      <td>0.236100</td>\n",
       "      <td>0.000000</td>\n",
       "      <td>1.000000</td>\n",
       "      <td>0.000000</td>\n",
       "    </tr>\n",
       "    <tr>\n",
       "      <td>13</td>\n",
       "      <td>0.236100</td>\n",
       "      <td>0.000000</td>\n",
       "      <td>1.000000</td>\n",
       "      <td>0.000000</td>\n",
       "    </tr>\n",
       "    <tr>\n",
       "      <td>14</td>\n",
       "      <td>0.236100</td>\n",
       "      <td>0.000000</td>\n",
       "      <td>1.000000</td>\n",
       "      <td>0.000000</td>\n",
       "    </tr>\n",
       "    <tr>\n",
       "      <td>15</td>\n",
       "      <td>0.236100</td>\n",
       "      <td>0.000000</td>\n",
       "      <td>1.000000</td>\n",
       "      <td>0.000000</td>\n",
       "    </tr>\n",
       "    <tr>\n",
       "      <td>16</td>\n",
       "      <td>0.236100</td>\n",
       "      <td>0.000000</td>\n",
       "      <td>1.000000</td>\n",
       "      <td>0.000000</td>\n",
       "    </tr>\n",
       "    <tr>\n",
       "      <td>17</td>\n",
       "      <td>0.000000</td>\n",
       "      <td>0.000000</td>\n",
       "      <td>1.000000</td>\n",
       "      <td>0.000000</td>\n",
       "    </tr>\n",
       "    <tr>\n",
       "      <td>18</td>\n",
       "      <td>0.000000</td>\n",
       "      <td>0.000000</td>\n",
       "      <td>1.000000</td>\n",
       "      <td>0.000000</td>\n",
       "    </tr>\n",
       "    <tr>\n",
       "      <td>19</td>\n",
       "      <td>0.000000</td>\n",
       "      <td>0.000000</td>\n",
       "      <td>1.000000</td>\n",
       "      <td>0.000000</td>\n",
       "    </tr>\n",
       "    <tr>\n",
       "      <td>20</td>\n",
       "      <td>0.000000</td>\n",
       "      <td>0.000000</td>\n",
       "      <td>1.000000</td>\n",
       "      <td>0.000000</td>\n",
       "    </tr>\n",
       "  </tbody>\n",
       "</table><p>"
      ],
      "text/plain": [
       "<IPython.core.display.HTML object>"
      ]
     },
     "metadata": {},
     "output_type": "display_data"
    },
    {
     "name": "stdout",
     "output_type": "stream",
     "text": [
      "t5-base_0.001_0.0001_128_0\n",
      "train {'train_runtime': 5281.5862, 'train_samples_per_second': 29.798, 'train_steps_per_second': 0.235, 'total_flos': 8984793076531200.0, 'train_loss': 0.09520592424701428, 'epoch': 20.0}\n"
     ]
    },
    {
     "data": {
      "text/html": [],
      "text/plain": [
       "<IPython.core.display.HTML object>"
      ]
     },
     "metadata": {},
     "output_type": "display_data"
    },
    {
     "name": "stdout",
     "output_type": "stream",
     "text": [
      "dev {'test_loss': 0.0, 'test_accuracy': 1.0, 'test_mcc': 0.0, 'test_runtime': 57.6061, 'test_samples_per_second': 48.38, 'test_steps_per_second': 0.382}\n"
     ]
    },
    {
     "data": {
      "text/html": [],
      "text/plain": [
       "<IPython.core.display.HTML object>"
      ]
     },
     "metadata": {},
     "output_type": "display_data"
    }
   ],
   "source": [
    "os.environ[\"TOKENIZERS_PARALLELISM\"] = \"false\"\n",
    "\n",
    "ACCURACY = load_metric('accuracy', keep_in_memory=True)\n",
    "MCC = load_metric('matthews_correlation', keep_in_memory=True)\n",
    "\n",
    "def check_or_create_directory(path: Path) -> None:\n",
    "    if not os.path.isdir(path):\n",
    "        pathlib.Path.mkdir(pathlib.Path(path))\n",
    "\n",
    "\n",
    "def load_dataset(url: str, file_path: Path) -> None:\n",
    "    file_path = str(file_path)\n",
    "    if os.path.exists(file_path):\n",
    "        print(f' Dataset {file_path} is already downloaded.')\n",
    "    else:\n",
    "        wget.download(url, file_path)\n",
    "        print(f' Dataset {file_path} is downloaded.')\n",
    "\n",
    "\n",
    "def read_splits():    \n",
    "    train_df, in_domain_dev_df, out_of_domain_dev_df, test_df = map(\n",
    "        pd.read_csv,\n",
    "        (\n",
    "            conf('t5.dataset.path.train'),\n",
    "            conf('t5.dataset.path.in-domain-dev'),\n",
    "            conf('t5.dataset.path.out-of-domain-dev'),\n",
    "            conf('t5.dataset.path.test')\n",
    "        )\n",
    "    )\n",
    "\n",
    "    # concatenate datasets to get aggregate metrics\n",
    "    dev_df = pd.concat((in_domain_dev_df, out_of_domain_dev_df))\n",
    "\n",
    "    train, dev, test = map(Dataset.from_pandas, (train_df, dev_df, test_df))\n",
    "    return DatasetDict(train=train, dev=dev, test=test)\n",
    "\n",
    "\n",
    "def compute_metrics(p, tokenizer):\n",
    "    string_preds = tokenizer.batch_decode(p.predictions, skip_special_tokens=True)\n",
    "    int_preds = [1 if prediction == conf('t5.label.pos') else 0 for prediction in string_preds]\n",
    "\n",
    "    labels = np.where(p.label_ids != -100, p.label_ids, tokenizer.pad_token_id)\n",
    "    string_labels = tokenizer.batch_decode(labels, skip_special_tokens=True)\n",
    "    int_labels = []\n",
    "\n",
    "    for string_label in string_labels:\n",
    "        if string_label == conf('t5.label.pos'):\n",
    "            int_labels.append(1)\n",
    "        elif string_label == conf('t5.label.neg') or string_label == '': # second case accounts for test data\n",
    "            int_labels.append(0)\n",
    "        else:\n",
    "            raise ValueError()\n",
    "\n",
    "    acc_result = ACCURACY.compute(predictions=int_preds, references=int_labels)\n",
    "    mcc_result = MCC.compute(predictions=int_preds, references=int_labels)\n",
    "\n",
    "    result = {'accuracy': acc_result['accuracy'], 'mcc': mcc_result['matthews_correlation']}\n",
    "    return result\n",
    "\n",
    "\n",
    "def preprocess_examples(examples, tokenizer):\n",
    "    result = tokenizer(examples['sentence'], padding=True)\n",
    "\n",
    "    if 'acceptable' in examples:\n",
    "        label_sequences = []\n",
    "        for label in examples['acceptable']:\n",
    "            if label == 1:\n",
    "                target_sequence = conf('t5.label.pos')\n",
    "            elif label == 0:\n",
    "                target_sequence = conf('t5.label.pos')\n",
    "            else:\n",
    "                raise ValueError('Unknown class label')\n",
    "            label_sequences.append(target_sequence)\n",
    "    else:\n",
    "        label_sequences = ['' for _ in examples['sentence']]\n",
    "\n",
    "    result['labels'] = tokenizer(label_sequences, padding=False)['input_ids']\n",
    "    result['length'] = [len(list(tokenize(sequence))) for sequence in examples['sentence']]\n",
    "\n",
    "    return result\n",
    "\n",
    "\n",
    "def create_training_args(run_base_dir,\n",
    "                         batch_size,\n",
    "                         learning_rate,\n",
    "                         weight_decay,\n",
    "                         seed):\n",
    "    return Seq2SeqTrainingArguments(\n",
    "        output_dir=f'checkpoints/{run_base_dir}',\n",
    "        overwrite_output_dir=conf('t5.const-training-args')['overwrite_output_dir'],\n",
    "        evaluation_strategy=conf('t5.const-training-args')['evaluation_strategy'],\n",
    "        per_device_train_batch_size=batch_size,\n",
    "        per_device_eval_batch_size=batch_size,\n",
    "        learning_rate=learning_rate,\n",
    "        weight_decay=weight_decay,\n",
    "        num_train_epochs=conf('t5.n-epochs'),\n",
    "        lr_scheduler_type=conf('t5.const-training-args')['lr_scheduler_type'],\n",
    "        save_strategy=conf('t5.const-training-args')['save_strategy'],\n",
    "        save_total_limit=conf('t5.const-training-args')['save_total_limit'],\n",
    "        seed=seed,\n",
    "        fp16=conf('t5.const-training-args')['fp16'],\n",
    "        dataloader_num_workers=conf('t5.const-training-args')['dataloader_num_workers'],\n",
    "        group_by_length=conf('t5.const-training-args')['group_by_length'],\n",
    "        report_to=conf('t5.const-training-args')['report_to'],\n",
    "        load_best_model_at_end=conf('t5.const-training-args')['load_best_model_at_end'],\n",
    "        metric_for_best_model=conf('t5.const-training-args')['metric_for_best_model'],\n",
    "        optim=conf('t5.const-training-args')['optim'],\n",
    "        predict_with_generate=conf('t5.const-training-args')['predict_with_generate']\n",
    "    )\n",
    "\n",
    "\n",
    "check_or_create_directory('./data')\n",
    "\n",
    "load_dataset(conf('t5.dataset.url.train'), conf('t5.dataset.path.train'))\n",
    "load_dataset(conf('t5.dataset.url.in-domain-dev'), conf('t5.dataset.path.in-domain-dev'))\n",
    "load_dataset(conf('t5.dataset.url.out-of-domain-dev'), conf('t5.dataset.path.out-of-domain-dev'))\n",
    "load_dataset(conf('t5.dataset.url.test'), conf('t5.dataset.path.test'))\n",
    "\n",
    "tokenizer = T5Tokenizer.from_pretrained(conf('t5.pretrain.path'))\n",
    "splits = read_splits()\n",
    "\n",
    "tokenized_splits = splits.map(\n",
    "    partial(preprocess_examples, tokenizer=tokenizer),\n",
    "    batched=True,\n",
    "    remove_columns=['sentence']\n",
    ")\n",
    "\n",
    "data_collator = DataCollatorForSeq2Seq(tokenizer, pad_to_multiple_of=8)\n",
    "dev_metrics_per_run = np.empty((\n",
    "    conf('t5.n-seeds'),\n",
    "    len(conf('t5.lr-values')),\n",
    "    len(conf('t5.decay-vales')),\n",
    "    len(conf('t5.batch-sizes')),\n",
    "    2\n",
    "))\n",
    "\n",
    "for i, learning_rate in enumerate(conf('t5.lr-values')):\n",
    "    for j, weight_decay in enumerate(conf('t5.decay-vales')):\n",
    "        for k, batch_size in enumerate(conf('t5.batch-sizes')):\n",
    "            for seed in range(conf('t5.n-seeds')):\n",
    "                model = T5ForConditionalGeneration.from_pretrained(conf('t5.pretrain.path'))\n",
    "                model.to(device)\n",
    "                run_base_dir = f'{conf(\"t5.model-name\")}_{learning_rate}_{weight_decay}_{batch_size}'\n",
    "\n",
    "                training_args = create_training_args(run_base_dir, batch_size, learning_rate, weight_decay, seed)\n",
    "                trainer = Seq2SeqTrainer(\n",
    "                    model=model,\n",
    "                    args=training_args,\n",
    "                    train_dataset=tokenized_splits['train'],\n",
    "                    eval_dataset=tokenized_splits['dev'],\n",
    "                    compute_metrics=partial(compute_metrics, tokenizer=tokenizer),\n",
    "                    tokenizer=tokenizer,\n",
    "                    data_collator=data_collator\n",
    "                )\n",
    "\n",
    "                train_result = trainer.train()\n",
    "                print(f'{run_base_dir}_{seed}')\n",
    "                print(f'train {train_result.metrics}')\n",
    "\n",
    "                os.makedirs(f'results/{run_base_dir}_{seed}', exist_ok=True)\n",
    "\n",
    "                dev_predictions = trainer.predict(\n",
    "                    test_dataset=tokenized_splits['dev'],\n",
    "                    metric_key_prefix='test',\n",
    "                    max_length=10\n",
    "                )\n",
    "                print(f'dev {dev_predictions.metrics}')\n",
    "                dev_metrics_per_run[seed, i, j, k] = (\n",
    "                    dev_predictions.metrics['test_accuracy'],\n",
    "                    dev_predictions.metrics['test_mcc']\n",
    "                )\n",
    "\n",
    "                predictions = trainer.predict(test_dataset=tokenized_splits['test'], max_length=10)\n",
    "                string_preds = tokenizer.batch_decode(predictions.predictions, skip_special_tokens=True)\n",
    "\n",
    "                int_preds = [1 if prediction == conf('t5.label.pos') else 0 for prediction in string_preds]\n",
    "                int_preds = np.asarray(int_preds)\n",
    "\n",
    "                np.save(f'results/{run_base_dir}_{seed}/preds.npy', int_preds)\n",
    "                rmtree(f'checkpoints/{run_base_dir}')\n",
    "\n",
    "os.makedirs('result_agg', exist_ok=True)\n",
    "np.save(f'result_agg/{conf(\"t5.model-name\")}_dev.npy', dev_metrics_per_run)"
   ]
  },
  {
   "cell_type": "code",
   "execution_count": null,
   "id": "175d3480",
   "metadata": {},
   "outputs": [],
   "source": []
  },
  {
   "cell_type": "code",
   "execution_count": null,
   "id": "a4632547",
   "metadata": {},
   "outputs": [],
   "source": []
  }
 ],
 "metadata": {
  "kernelspec": {
   "display_name": "Python 3 (ipykernel)",
   "language": "python",
   "name": "python3"
  },
  "language_info": {
   "codemirror_mode": {
    "name": "ipython",
    "version": 3
   },
   "file_extension": ".py",
   "mimetype": "text/x-python",
   "name": "python",
   "nbconvert_exporter": "python",
   "pygments_lexer": "ipython3",
   "version": "3.10.7"
  }
 },
 "nbformat": 4,
 "nbformat_minor": 5
}
