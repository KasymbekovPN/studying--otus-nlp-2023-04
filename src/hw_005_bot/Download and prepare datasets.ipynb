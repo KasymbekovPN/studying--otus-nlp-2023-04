{
 "cells": [
  {
   "cell_type": "markdown",
   "id": "eb0b6796",
   "metadata": {},
   "source": [
    "## Import"
   ]
  },
  {
   "cell_type": "code",
   "execution_count": 1,
   "id": "7285958f",
   "metadata": {},
   "outputs": [
    {
     "name": "stdout",
     "output_type": "stream",
     "text": [
      "Import is done.\n"
     ]
    }
   ],
   "source": [
    "import os\n",
    "import wget\n",
    "import zipfile\n",
    "\n",
    "from pathlib import Path\n",
    "\n",
    "# local\n",
    "from downloader import (\n",
    "    DefaultCheckStrategy,\n",
    "    DefaultDownloadStrategy,\n",
    "    DefaultPreparationStrategy,\n",
    "    Downloader\n",
    ")\n",
    "\n",
    "print('Import is done.')"
   ]
  },
  {
   "cell_type": "markdown",
   "id": "0961fd5c",
   "metadata": {},
   "source": [
    "## Config"
   ]
  },
  {
   "cell_type": "code",
   "execution_count": 2,
   "id": "7298cd25",
   "metadata": {},
   "outputs": [
    {
     "name": "stdout",
     "output_type": "stream",
     "text": [
      "Constants are initialized.\n"
     ]
    }
   ],
   "source": [
    "DATA_DIRECTORY = '.\\\\data'\n",
    "\n",
    "RUSSE_URL = 'https://russiansuperglue.com/tasks/download/RUSSE'\n",
    "RUSSE_DIRECTORY = os.path.join(DATA_DIRECTORY, 'RUSSE') \n",
    "RUSSE_OUTPUT = os.path.join(DATA_DIRECTORY, 'russe_paths')\n",
    "\n",
    "DANETQA_URL = 'https://russiansuperglue.com/tasks/download/DaNetQA'\n",
    "DANETQA_DIRECTORY = os.path.join(DATA_DIRECTORY, 'DaNetQA') \n",
    "DANETQA_OUTPUT = os.path.join(DATA_DIRECTORY, 'danetqa_paths')\n",
    "\n",
    "DATA_SUB_DIRECTORIES = (RUSSE_DIRECTORY, DANETQA_DIRECTORY)\n",
    "\n",
    "print('Constants are initialized.')"
   ]
  },
  {
   "cell_type": "markdown",
   "id": "03dc59ec",
   "metadata": {},
   "source": [
    "## Check dataset directories"
   ]
  },
  {
   "cell_type": "code",
   "execution_count": 3,
   "id": "3118a64c",
   "metadata": {},
   "outputs": [
    {
     "name": "stdout",
     "output_type": "stream",
     "text": [
      "Dataset directories are either created or check.\n"
     ]
    }
   ],
   "source": [
    "Path(DATA_DIRECTORY).mkdir(parents=True, exist_ok=True)\n",
    "\n",
    "for path in DATA_SUB_DIRECTORIES:\n",
    "    Path(path).mkdir(parents=True, exist_ok=True)\n",
    "\n",
    "print('Dataset directories are either created or check.')"
   ]
  },
  {
   "cell_type": "markdown",
   "id": "058cff7a",
   "metadata": {},
   "source": [
    "## Prepare RUSSE dataset"
   ]
  },
  {
   "cell_type": "code",
   "execution_count": 4,
   "id": "0900a6ba",
   "metadata": {},
   "outputs": [
    {
     "name": "stdout",
     "output_type": "stream",
     "text": [
      "100% [..........................................................................] 3806009 / 3806009\n",
      "Preparation is done.\n"
     ]
    }
   ],
   "source": [
    "paths = {\n",
    "    'train.jsonl': 'RUSSE\\\\train.jsonl',\n",
    "    'test.jsonl': 'RUSSE\\\\test.jsonl',\n",
    "    'val.jsonl': 'RUSSE\\\\val.jsonl'\n",
    "}\n",
    "\n",
    "downloader = Downloader(RUSSE_OUTPUT)\n",
    "downloader.download(\n",
    "    RUSSE_DIRECTORY,\n",
    "    paths,\n",
    "    DefaultCheckStrategy(),\n",
    "    DefaultDownloadStrategy(RUSSE_URL),\n",
    "    DefaultPreparationStrategy()\n",
    ")\n",
    "\n",
    "print('\\nPreparation is done.')"
   ]
  },
  {
   "cell_type": "markdown",
   "id": "7ddbdd22",
   "metadata": {},
   "source": [
    "## Prepare DaNetQA"
   ]
  },
  {
   "cell_type": "code",
   "execution_count": 5,
   "id": "860107ad",
   "metadata": {},
   "outputs": [
    {
     "name": "stdout",
     "output_type": "stream",
     "text": [
      "100% [..........................................................................] 1293761 / 1293761\n",
      "Preparation is done.\n"
     ]
    }
   ],
   "source": [
    "paths = {\n",
    "    'train.jsonl': 'DaNetQA\\\\train.jsonl',\n",
    "    'test.jsonl': 'DaNetQA\\\\test.jsonl',\n",
    "    'val.jsonl': 'DaNetQA\\\\val.jsonl'\n",
    "}\n",
    "\n",
    "downloader = Downloader(DANETQA_OUTPUT)\n",
    "downloader.download(\n",
    "    DANETQA_DIRECTORY,\n",
    "    paths,\n",
    "    DefaultCheckStrategy(),\n",
    "    DefaultDownloadStrategy(DANETQA_URL),\n",
    "    DefaultPreparationStrategy()\n",
    ")\n",
    "\n",
    "print('\\nPreparation is done.')"
   ]
  },
  {
   "cell_type": "code",
   "execution_count": null,
   "id": "31623077",
   "metadata": {},
   "outputs": [],
   "source": []
  }
 ],
 "metadata": {
  "kernelspec": {
   "display_name": "Python 3 (ipykernel)",
   "language": "python",
   "name": "python3"
  },
  "language_info": {
   "codemirror_mode": {
    "name": "ipython",
    "version": 3
   },
   "file_extension": ".py",
   "mimetype": "text/x-python",
   "name": "python",
   "nbconvert_exporter": "python",
   "pygments_lexer": "ipython3",
   "version": "3.10.7"
  }
 },
 "nbformat": 4,
 "nbformat_minor": 5
}
