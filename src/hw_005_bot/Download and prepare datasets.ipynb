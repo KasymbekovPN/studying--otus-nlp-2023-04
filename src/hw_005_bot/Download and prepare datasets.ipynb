{
 "cells": [
  {
   "cell_type": "markdown",
   "id": "eb0b6796",
   "metadata": {},
   "source": [
    "## Import"
   ]
  },
  {
   "cell_type": "code",
   "execution_count": 5,
   "id": "7285958f",
   "metadata": {},
   "outputs": [],
   "source": [
    "import os\n",
    "import wget\n",
    "import zipfile"
   ]
  },
  {
   "cell_type": "markdown",
   "id": "0961fd5c",
   "metadata": {},
   "source": [
    "## Config"
   ]
  },
  {
   "cell_type": "code",
   "execution_count": 6,
   "id": "7298cd25",
   "metadata": {},
   "outputs": [],
   "source": [
    "DATA_DIRECTORY = './data'\n",
    "RUSSE_DIRECTORY = DATA_DIRECTORY + '/RUSSE'"
   ]
  },
  {
   "cell_type": "code",
   "execution_count": 7,
   "id": "06251e43",
   "metadata": {},
   "outputs": [
    {
     "name": "stdout",
     "output_type": "stream",
     "text": [
      "100% [..........................................................................] 3806009 / 3806009 Dataset \"123\" is downloaded.\n"
     ]
    }
   ],
   "source": [
    "\n",
    "\n",
    "# def load_dataset(url: str, path: str, name: str):\n",
    "#     if os.path.exists(path):\n",
    "#         print('Dataset \"' + name + '\" is already downloaded.')\n",
    "#     else:\n",
    "#         wget.download(url, path)\n",
    "#         print(' Dataset \"' + name + '\" is downloaded.')\n",
    "\n",
    "\n",
    "# path = 'https://russiansuperglue.com/tasks/download/RUSSE'\n",
    "# name = 'russe.zip'\n",
    "\n",
    "# load_dataset(path, name, '123')\n",
    "\n",
    "\n",
    "# with zipfile.ZipFile(name, 'r') as zip_ref:\n",
    "#     zip_ref.extractall('./')"
   ]
  },
  {
   "cell_type": "code",
   "execution_count": null,
   "id": "2f4170fc",
   "metadata": {},
   "outputs": [],
   "source": []
  }
 ],
 "metadata": {
  "kernelspec": {
   "display_name": "Python 3 (ipykernel)",
   "language": "python",
   "name": "python3"
  },
  "language_info": {
   "codemirror_mode": {
    "name": "ipython",
    "version": 3
   },
   "file_extension": ".py",
   "mimetype": "text/x-python",
   "name": "python",
   "nbconvert_exporter": "python",
   "pygments_lexer": "ipython3",
   "version": "3.10.7"
  }
 },
 "nbformat": 4,
 "nbformat_minor": 5
}
