{
 "cells": [
  {
   "cell_type": "markdown",
   "id": "eb0b6796",
   "metadata": {},
   "source": [
    "## Import"
   ]
  },
  {
   "cell_type": "code",
   "execution_count": 1,
   "id": "7285958f",
   "metadata": {},
   "outputs": [
    {
     "name": "stdout",
     "output_type": "stream",
     "text": [
      "Import is done.\n"
     ]
    }
   ],
   "source": [
    "import os\n",
    "import wget\n",
    "import zipfile\n",
    "\n",
    "from pathlib import Path\n",
    "\n",
    "# local\n",
    "from downloader import (\n",
    "    DefaultCheckStrategy,\n",
    "    DefaultDownloadStrategy,\n",
    "    DefaultPreparationStrategy,\n",
    "    Downloader\n",
    ")\n",
    "\n",
    "print('Import is done.')"
   ]
  },
  {
   "cell_type": "markdown",
   "id": "0961fd5c",
   "metadata": {},
   "source": [
    "## Config"
   ]
  },
  {
   "cell_type": "code",
   "execution_count": 2,
   "id": "7298cd25",
   "metadata": {},
   "outputs": [
    {
     "name": "stdout",
     "output_type": "stream",
     "text": [
      "Constants are initialized.\n"
     ]
    }
   ],
   "source": [
    "DATA_DIRECTORY = '.\\\\data'\n",
    "\n",
    "RUSSE_URL = 'https://russiansuperglue.com/tasks/download/RUSSE'\n",
    "RUSSE_DIRECTORY = os.path.join(DATA_DIRECTORY, 'RUSSE') \n",
    "\n",
    "DATA_SUB_DIRECTORIES = (RUSSE_DIRECTORY, )\n",
    "\n",
    "print('Constants are initialized.')"
   ]
  },
  {
   "cell_type": "markdown",
   "id": "03dc59ec",
   "metadata": {},
   "source": [
    "## Check dataset directories"
   ]
  },
  {
   "cell_type": "code",
   "execution_count": 3,
   "id": "3118a64c",
   "metadata": {},
   "outputs": [
    {
     "name": "stdout",
     "output_type": "stream",
     "text": [
      "Dataset directories are either created or check.\n"
     ]
    }
   ],
   "source": [
    "Path(DATA_DIRECTORY).mkdir(parents=True, exist_ok=True)\n",
    "\n",
    "for path in DATA_SUB_DIRECTORIES:\n",
    "    Path(path).mkdir(parents=True, exist_ok=True)\n",
    "\n",
    "print('Dataset directories are either created or check.')"
   ]
  },
  {
   "cell_type": "markdown",
   "id": "058cff7a",
   "metadata": {},
   "source": [
    "## Prepare RUSSE dataset"
   ]
  },
  {
   "cell_type": "code",
   "execution_count": 4,
   "id": "0900a6ba",
   "metadata": {},
   "outputs": [
    {
     "name": "stdout",
     "output_type": "stream",
     "text": [
      "None\n"
     ]
    }
   ],
   "source": [
    "paths = {\n",
    "    'train.jsonl': 'RUSSE\\\\train.jsonl',\n",
    "    'test.jsonl': 'RUSSE\\\\test.jsonl',\n",
    "    'val.jsonl': 'RUSSE\\\\val.jsonl'\n",
    "}\n",
    "downloader = Downloader(\n",
    "    RUSSE_DIRECTORY,\n",
    "    paths,\n",
    "    DefaultCheckStrategy(),\n",
    "    DefaultDownloadStrategy(RUSSE_URL),\n",
    "    DefaultPreparationStrategy()\n",
    ")\n",
    "\n",
    "print(downloader.get('train.jsonl'))\n"
   ]
  },
  {
   "cell_type": "code",
   "execution_count": 7,
   "id": "06251e43",
   "metadata": {},
   "outputs": [
    {
     "name": "stdout",
     "output_type": "stream",
     "text": [
      "100% [..........................................................................] 3806009 / 3806009 Dataset \"123\" is downloaded.\n"
     ]
    }
   ],
   "source": [
    "\n",
    "\n",
    "\n",
    "\n",
    "\n",
    "\n",
    "# def load_dataset(url: str, path: str, name: str):\n",
    "#     if os.path.exists(path):\n",
    "#         print('Dataset \"' + name + '\" is already downloaded.')\n",
    "#     else:\n",
    "#         wget.download(url, path)\n",
    "#         print(' Dataset \"' + name + '\" is downloaded.')\n",
    "\n",
    "\n",
    "# path = 'https://russiansuperglue.com/tasks/download/RUSSE'\n",
    "# name = 'russe.zip'\n",
    "\n",
    "# load_dataset(path, name, '123')\n",
    "\n",
    "\n",
    "# with zipfile.ZipFile(name, 'r') as zip_ref:\n",
    "#     zip_ref.extractall('./')"
   ]
  },
  {
   "cell_type": "code",
   "execution_count": null,
   "id": "2f4170fc",
   "metadata": {},
   "outputs": [],
   "source": []
  }
 ],
 "metadata": {
  "kernelspec": {
   "display_name": "Python 3 (ipykernel)",
   "language": "python",
   "name": "python3"
  },
  "language_info": {
   "codemirror_mode": {
    "name": "ipython",
    "version": 3
   },
   "file_extension": ".py",
   "mimetype": "text/x-python",
   "name": "python",
   "nbconvert_exporter": "python",
   "pygments_lexer": "ipython3",
   "version": "3.10.7"
  }
 },
 "nbformat": 4,
 "nbformat_minor": 5
}
