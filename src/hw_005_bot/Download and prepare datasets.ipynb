{
 "cells": [
  {
   "cell_type": "markdown",
   "id": "eb0b6796",
   "metadata": {},
   "source": [
    "## Import"
   ]
  },
  {
   "cell_type": "code",
   "execution_count": 1,
   "id": "7285958f",
   "metadata": {},
   "outputs": [
    {
     "name": "stdout",
     "output_type": "stream",
     "text": [
      "Import is done.\n"
     ]
    }
   ],
   "source": [
    "import os\n",
    "import wget\n",
    "import zipfile\n",
    "\n",
    "from pathlib import Path\n",
    "\n",
    "# local\n",
    "from utils import (\n",
    "    download_dataset,\n",
    "    extract_archive,\n",
    "    prepare_russe_dataset_directory\n",
    ")\n",
    "\n",
    "print('Import is done.')"
   ]
  },
  {
   "cell_type": "markdown",
   "id": "0961fd5c",
   "metadata": {},
   "source": [
    "## Config"
   ]
  },
  {
   "cell_type": "code",
   "execution_count": 2,
   "id": "7298cd25",
   "metadata": {},
   "outputs": [
    {
     "name": "stdout",
     "output_type": "stream",
     "text": [
      "Constants are initialized.\n"
     ]
    }
   ],
   "source": [
    "DATA_DIRECTORY = './data'\n",
    "\n",
    "RUSSE_DIRECTORY = DATA_DIRECTORY + '/RUSSE'\n",
    "RUSSE_URL = 'https://russiansuperglue.com/tasks/download/RUSSE'\n",
    "RUSSE_FILE = RUSSE_DIRECTORY + '/russe.zip'\n",
    "\n",
    "DATA_SUB_DIRECTORIES = (RUSSE_DIRECTORY, )\n",
    "\n",
    "print('Constants are initialized.')"
   ]
  },
  {
   "cell_type": "markdown",
   "id": "03dc59ec",
   "metadata": {},
   "source": [
    "## Check dataset directories"
   ]
  },
  {
   "cell_type": "code",
   "execution_count": 3,
   "id": "3118a64c",
   "metadata": {},
   "outputs": [
    {
     "name": "stdout",
     "output_type": "stream",
     "text": [
      "Dataset directories are either created or check.\n"
     ]
    }
   ],
   "source": [
    "Path(DATA_DIRECTORY).mkdir(parents=True, exist_ok=True)\n",
    "\n",
    "for path in DATA_SUB_DIRECTORIES:\n",
    "    Path(path).mkdir(parents=True, exist_ok=True)\n",
    "\n",
    "print('Dataset directories are either created or check.')"
   ]
  },
  {
   "cell_type": "markdown",
   "id": "058cff7a",
   "metadata": {},
   "source": [
    "## Prepare RUSSE dataset"
   ]
  },
  {
   "cell_type": "code",
   "execution_count": 5,
   "id": "0900a6ba",
   "metadata": {},
   "outputs": [
    {
     "name": "stdout",
     "output_type": "stream",
     "text": [
      "Raw dataset is already downloaded | \"./data/RUSSE/russe.zip\".\n",
      "It is extracted to \"./data/RUSSE\"\n"
     ]
    },
    {
     "ename": "FileExistsError",
     "evalue": "[WinError 183] Невозможно создать файл, так как он уже существует: './data/RUSSE/RUSSE/test.jsonl' -> './data/RUSSE/test.jsonl'",
     "output_type": "error",
     "traceback": [
      "\u001b[1;31m---------------------------------------------------------------------------\u001b[0m",
      "\u001b[1;31mFileExistsError\u001b[0m                           Traceback (most recent call last)",
      "Cell \u001b[1;32mIn[5], line 3\u001b[0m\n\u001b[0;32m      1\u001b[0m download_dataset(RUSSE_URL, RUSSE_FILE)\n\u001b[0;32m      2\u001b[0m extract_archive(RUSSE_FILE, RUSSE_DIRECTORY)\n\u001b[1;32m----> 3\u001b[0m \u001b[43mprepare_russe_dataset_directory\u001b[49m\u001b[43m(\u001b[49m\u001b[43mRUSSE_DIRECTORY\u001b[49m\u001b[43m)\u001b[49m\n",
      "File \u001b[1;32m~\\projects\\studying--otus-nlp-2023-04\\src\\hw_005_bot\\utils.py:34\u001b[0m, in \u001b[0;36mprepare_russe_dataset_directory\u001b[1;34m(directory_path)\u001b[0m\n\u001b[0;32m     31\u001b[0m paths \u001b[38;5;241m=\u001b[39m [(directory_with_files \u001b[38;5;241m+\u001b[39m \u001b[38;5;124m'\u001b[39m\u001b[38;5;124m/\u001b[39m\u001b[38;5;124m'\u001b[39m \u001b[38;5;241m+\u001b[39m name, directory_path \u001b[38;5;241m+\u001b[39m \u001b[38;5;124m'\u001b[39m\u001b[38;5;124m/\u001b[39m\u001b[38;5;124m'\u001b[39m \u001b[38;5;241m+\u001b[39m name, ) \u001b[38;5;28;01mfor\u001b[39;00m name \u001b[38;5;129;01min\u001b[39;00m RUSSE_FILE_NAMES]\n\u001b[0;32m     33\u001b[0m \u001b[38;5;28;01mfor\u001b[39;00m path_pair \u001b[38;5;129;01min\u001b[39;00m paths:\n\u001b[1;32m---> 34\u001b[0m     \u001b[43mos\u001b[49m\u001b[38;5;241;43m.\u001b[39;49m\u001b[43mrename\u001b[49m\u001b[43m(\u001b[49m\u001b[43mpath_pair\u001b[49m\u001b[43m[\u001b[49m\u001b[38;5;241;43m0\u001b[39;49m\u001b[43m]\u001b[49m\u001b[43m,\u001b[49m\u001b[43m \u001b[49m\u001b[43mpath_pair\u001b[49m\u001b[43m[\u001b[49m\u001b[38;5;241;43m1\u001b[39;49m\u001b[43m]\u001b[49m\u001b[43m)\u001b[49m\n",
      "\u001b[1;31mFileExistsError\u001b[0m: [WinError 183] Невозможно создать файл, так как он уже существует: './data/RUSSE/RUSSE/test.jsonl' -> './data/RUSSE/test.jsonl'"
     ]
    }
   ],
   "source": [
    "# download_dataset(RUSSE_URL, RUSSE_FILE)\n",
    "# extract_archive(RUSSE_FILE, RUSSE_DIRECTORY)\n",
    "# prepare_russe_dataset_directory(RUSSE_DIRECTORY)"
   ]
  },
  {
   "cell_type": "code",
   "execution_count": 7,
   "id": "06251e43",
   "metadata": {},
   "outputs": [
    {
     "name": "stdout",
     "output_type": "stream",
     "text": [
      "100% [..........................................................................] 3806009 / 3806009 Dataset \"123\" is downloaded.\n"
     ]
    }
   ],
   "source": [
    "\n",
    "\n",
    "# def load_dataset(url: str, path: str, name: str):\n",
    "#     if os.path.exists(path):\n",
    "#         print('Dataset \"' + name + '\" is already downloaded.')\n",
    "#     else:\n",
    "#         wget.download(url, path)\n",
    "#         print(' Dataset \"' + name + '\" is downloaded.')\n",
    "\n",
    "\n",
    "# path = 'https://russiansuperglue.com/tasks/download/RUSSE'\n",
    "# name = 'russe.zip'\n",
    "\n",
    "# load_dataset(path, name, '123')\n",
    "\n",
    "\n",
    "# with zipfile.ZipFile(name, 'r') as zip_ref:\n",
    "#     zip_ref.extractall('./')"
   ]
  },
  {
   "cell_type": "code",
   "execution_count": null,
   "id": "2f4170fc",
   "metadata": {},
   "outputs": [],
   "source": []
  }
 ],
 "metadata": {
  "kernelspec": {
   "display_name": "Python 3 (ipykernel)",
   "language": "python",
   "name": "python3"
  },
  "language_info": {
   "codemirror_mode": {
    "name": "ipython",
    "version": 3
   },
   "file_extension": ".py",
   "mimetype": "text/x-python",
   "name": "python",
   "nbconvert_exporter": "python",
   "pygments_lexer": "ipython3",
   "version": "3.10.7"
  }
 },
 "nbformat": 4,
 "nbformat_minor": 5
}
